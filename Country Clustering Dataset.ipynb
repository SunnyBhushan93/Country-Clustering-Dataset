{
 "cells": [
  {
   "cell_type": "markdown",
   "metadata": {},
   "source": [
    "## Overview of Clustering Assignment Case Study\n",
    "\n",
    "The steps of this analysis are:\n",
    "1. Read and understand the data\n",
    "2. Clean the data\n",
    "3. Prepare the data for modelling\n",
    "4. Modelling\n",
    "5. Final analysis"
   ]
  },
  {
   "cell_type": "markdown",
   "metadata": {},
   "source": [
    "## Step 1:- Read and understand the data"
   ]
  },
  {
   "cell_type": "code",
   "execution_count": 54,
   "metadata": {},
   "outputs": [],
   "source": [
    "# Import Warnings\n",
    "import warnings\n",
    "warnings.filterwarnings('ignore')"
   ]
  },
  {
   "cell_type": "code",
   "execution_count": 55,
   "metadata": {},
   "outputs": [],
   "source": [
    "# import important Libraries\n",
    "import numpy as np\n",
    "\n",
    "import pandas as pd\n",
    "import matplotlib.pyplot as plt\n",
    "import seaborn as sns\n",
    "\n",
    "import datetime as dt\n",
    "\n",
    "import sklearn\n",
    "from sklearn.preprocessing import StandardScaler\n",
    "from sklearn.cluster import KMeans\n",
    "from sklearn.metrics import silhouette_score\n",
    "\n",
    "from scipy.cluster.hierarchy import linkage\n",
    "from scipy.cluster.hierarchy import dendrogram\n",
    "from scipy.cluster.hierarchy import cut_tree"
   ]
  },
  {
   "cell_type": "code",
   "execution_count": 56,
   "metadata": {},
   "outputs": [
    {
     "data": {
      "text/html": [
       "<div>\n",
       "<style scoped>\n",
       "    .dataframe tbody tr th:only-of-type {\n",
       "        vertical-align: middle;\n",
       "    }\n",
       "\n",
       "    .dataframe tbody tr th {\n",
       "        vertical-align: top;\n",
       "    }\n",
       "\n",
       "    .dataframe thead th {\n",
       "        text-align: right;\n",
       "    }\n",
       "</style>\n",
       "<table border=\"1\" class=\"dataframe\">\n",
       "  <thead>\n",
       "    <tr style=\"text-align: right;\">\n",
       "      <th></th>\n",
       "      <th>country</th>\n",
       "      <th>child_mort</th>\n",
       "      <th>exports</th>\n",
       "      <th>health</th>\n",
       "      <th>imports</th>\n",
       "      <th>income</th>\n",
       "      <th>inflation</th>\n",
       "      <th>life_expec</th>\n",
       "      <th>total_fer</th>\n",
       "      <th>gdpp</th>\n",
       "    </tr>\n",
       "  </thead>\n",
       "  <tbody>\n",
       "    <tr>\n",
       "      <td>0</td>\n",
       "      <td>Afghanistan</td>\n",
       "      <td>90.2</td>\n",
       "      <td>10.0</td>\n",
       "      <td>7.58</td>\n",
       "      <td>44.9</td>\n",
       "      <td>1610</td>\n",
       "      <td>9.44</td>\n",
       "      <td>56.2</td>\n",
       "      <td>5.82</td>\n",
       "      <td>553</td>\n",
       "    </tr>\n",
       "    <tr>\n",
       "      <td>1</td>\n",
       "      <td>Albania</td>\n",
       "      <td>16.6</td>\n",
       "      <td>28.0</td>\n",
       "      <td>6.55</td>\n",
       "      <td>48.6</td>\n",
       "      <td>9930</td>\n",
       "      <td>4.49</td>\n",
       "      <td>76.3</td>\n",
       "      <td>1.65</td>\n",
       "      <td>4090</td>\n",
       "    </tr>\n",
       "    <tr>\n",
       "      <td>2</td>\n",
       "      <td>Algeria</td>\n",
       "      <td>27.3</td>\n",
       "      <td>38.4</td>\n",
       "      <td>4.17</td>\n",
       "      <td>31.4</td>\n",
       "      <td>12900</td>\n",
       "      <td>16.10</td>\n",
       "      <td>76.5</td>\n",
       "      <td>2.89</td>\n",
       "      <td>4460</td>\n",
       "    </tr>\n",
       "    <tr>\n",
       "      <td>3</td>\n",
       "      <td>Angola</td>\n",
       "      <td>119.0</td>\n",
       "      <td>62.3</td>\n",
       "      <td>2.85</td>\n",
       "      <td>42.9</td>\n",
       "      <td>5900</td>\n",
       "      <td>22.40</td>\n",
       "      <td>60.1</td>\n",
       "      <td>6.16</td>\n",
       "      <td>3530</td>\n",
       "    </tr>\n",
       "    <tr>\n",
       "      <td>4</td>\n",
       "      <td>Antigua and Barbuda</td>\n",
       "      <td>10.3</td>\n",
       "      <td>45.5</td>\n",
       "      <td>6.03</td>\n",
       "      <td>58.9</td>\n",
       "      <td>19100</td>\n",
       "      <td>1.44</td>\n",
       "      <td>76.8</td>\n",
       "      <td>2.13</td>\n",
       "      <td>12200</td>\n",
       "    </tr>\n",
       "  </tbody>\n",
       "</table>\n",
       "</div>"
      ],
      "text/plain": [
       "               country  child_mort  exports  health  imports  income  \\\n",
       "0          Afghanistan        90.2     10.0    7.58     44.9    1610   \n",
       "1              Albania        16.6     28.0    6.55     48.6    9930   \n",
       "2              Algeria        27.3     38.4    4.17     31.4   12900   \n",
       "3               Angola       119.0     62.3    2.85     42.9    5900   \n",
       "4  Antigua and Barbuda        10.3     45.5    6.03     58.9   19100   \n",
       "\n",
       "   inflation  life_expec  total_fer   gdpp  \n",
       "0       9.44        56.2       5.82    553  \n",
       "1       4.49        76.3       1.65   4090  \n",
       "2      16.10        76.5       2.89   4460  \n",
       "3      22.40        60.1       6.16   3530  \n",
       "4       1.44        76.8       2.13  12200  "
      ]
     },
     "execution_count": 56,
     "metadata": {},
     "output_type": "execute_result"
    }
   ],
   "source": [
    "# read the dataset\n",
    "data = pd.read_csv(\"D:/Documents/python/Clustering/Country-data.csv\")\n",
    "data.head()"
   ]
  },
  {
   "cell_type": "code",
   "execution_count": 57,
   "metadata": {},
   "outputs": [
    {
     "data": {
      "text/plain": [
       "(167, 10)"
      ]
     },
     "execution_count": 57,
     "metadata": {},
     "output_type": "execute_result"
    }
   ],
   "source": [
    "# sahpe of data\n",
    "data.shape"
   ]
  },
  {
   "cell_type": "code",
   "execution_count": 58,
   "metadata": {},
   "outputs": [
    {
     "name": "stdout",
     "output_type": "stream",
     "text": [
      "<class 'pandas.core.frame.DataFrame'>\n",
      "RangeIndex: 167 entries, 0 to 166\n",
      "Data columns (total 10 columns):\n",
      "country       167 non-null object\n",
      "child_mort    167 non-null float64\n",
      "exports       167 non-null float64\n",
      "health        167 non-null float64\n",
      "imports       167 non-null float64\n",
      "income        167 non-null int64\n",
      "inflation     167 non-null float64\n",
      "life_expec    167 non-null float64\n",
      "total_fer     167 non-null float64\n",
      "gdpp          167 non-null int64\n",
      "dtypes: float64(7), int64(2), object(1)\n",
      "memory usage: 13.2+ KB\n"
     ]
    }
   ],
   "source": [
    "# checking data types of different variables\n",
    "data.info()"
   ]
  },
  {
   "cell_type": "code",
   "execution_count": 59,
   "metadata": {},
   "outputs": [
    {
     "data": {
      "image/png": "[encoded data removed]",
      "text/plain": [
       "<Figure size 1080x1080 with 8 Axes>"
      ]
     },
     "metadata": {
      "needs_background": "light"
     },
     "output_type": "display_data"
    }
   ],
   "source": [
    "# visualising the distribution of data\n",
    "plt.figure(figsize=(15,15))\n",
    "feature = ['child_mort', 'exports', 'health', 'imports', 'inflation', 'life_expec', 'total_fer', 'gdpp']\n",
    "for i in enumerate(feature):\n",
    "    plt.subplot(3,3,i[0]+1)\n",
    "    sns.distplot(data[i[1]])"
   ]
  },
  {
   "cell_type": "markdown",
   "metadata": {},
   "source": [
    "In 'total_fre' and 'gdpp' we can see that data is distributed in two sets"
   ]
  },
  {
   "cell_type": "markdown",
   "metadata": {},
   "source": [
    "## Step 2:- Cleaning the data"
   ]
  },
  {
   "cell_type": "code",
   "execution_count": 60,
   "metadata": {},
   "outputs": [
    {
     "data": {
      "text/plain": [
       "country       0\n",
       "child_mort    0\n",
       "exports       0\n",
       "health        0\n",
       "imports       0\n",
       "income        0\n",
       "inflation     0\n",
       "life_expec    0\n",
       "total_fer     0\n",
       "gdpp          0\n",
       "dtype: int64"
      ]
     },
     "execution_count": 60,
     "metadata": {},
     "output_type": "execute_result"
    }
   ],
   "source": [
    "# checking for number of missing values\n",
    "data.isnull().sum()"
   ]
  },
  {
   "cell_type": "markdown",
   "metadata": {},
   "source": [
    "Here we can see that there is no missing value in the in the dataframe so we can continue with the same variables as they already are."
   ]
  },
  {
   "cell_type": "code",
   "execution_count": 61,
   "metadata": {},
   "outputs": [
    {
     "data": {
      "image/png": "[encoded data removed]",
      "text/plain": [
       "<Figure size 1224x720 with 9 Axes>"
      ]
     },
     "metadata": {
      "needs_background": "light"
     },
     "output_type": "display_data"
    }
   ],
   "source": [
    "# checking for outliers\n",
    "plt.figure(figsize=(17,10))\n",
    "feature = ['child_mort', 'exports', 'health', 'imports', 'income', 'inflation', 'life_expec', 'total_fer', 'gdpp']\n",
    "for i in enumerate(feature):\n",
    "    plt.subplot(3,3,i[0]+1)\n",
    "    sns.boxplot(data[i[1]])"
   ]
  },
  {
   "cell_type": "markdown",
   "metadata": {},
   "source": [
    "As we can see there are a number of outliers in the data.\n",
    "We will cap the outliers to values accordingly for analysis because we have less data and less outliers."
   ]
  },
  {
   "cell_type": "code",
   "execution_count": 62,
   "metadata": {},
   "outputs": [],
   "source": [
    "# outlier treatment for child_mort\n",
    "q1 = data.child_mort.quantile(0.05)\n",
    "q4 = data.child_mort.quantile(0.95)\n",
    "data['child_mort'][data['child_mort']<=q1]=q1\n",
    "data['child_mort'][data['child_mort']>=q4]=q4\n",
    "\n",
    "# outlier treatment for exports\n",
    "q1 = data.exports.quantile(0.05)\n",
    "q4 = data.exports.quantile(0.95)\n",
    "data['exports'][data['exports']<=q1]=q1\n",
    "data['exports'][data['exports']>=q4]=q4\n",
    "\n",
    "# outlier treatment for health\n",
    "q1 = data.health.quantile(0.05)\n",
    "q4 = data.health.quantile(0.95)\n",
    "data['health'][data['health']<=q1]=q1\n",
    "data['health'][data['health']>=q4]=q4\n",
    "\n",
    "# outlier treatment for imports\n",
    "q1 = data.imports.quantile(0.05)\n",
    "q4 = data.imports.quantile(0.95)\n",
    "data['imports'][data['imports']<=q1]=q1\n",
    "data['imports'][data['imports']>=q4]=q4\n",
    "\n",
    "# outlier treatment for income\n",
    "q1 = data.income.quantile(0.05)\n",
    "q4 = data.income.quantile(0.95)\n",
    "data['income'][data['income']<=q1]=q1\n",
    "data['income'][data['income']>=q4]=q4\n",
    "\n",
    "# outlier treatment for inflation\n",
    "q1 = data.inflation.quantile(0.05)\n",
    "q4 = data.inflation.quantile(0.95)\n",
    "data['inflation'][data['inflation']<=q1]=q1\n",
    "data['inflation'][data['inflation']>=q4]=q4\n",
    "\n",
    "# outlier treatment for life_expec\n",
    "q1 = data.life_expec.quantile(0.05)\n",
    "q4 = data.life_expec.quantile(0.95)\n",
    "data['life_expec'][data['life_expec']<=q1]=q1\n",
    "data['life_expec'][data['life_expec']>=q4]=q4\n",
    "\n",
    "# outlier treatment for total_fer\n",
    "q1 = data.total_fer.quantile(0.05)\n",
    "q4 = data.total_fer.quantile(0.95)\n",
    "data['total_fer'][data['total_fer']<=q1]=q1\n",
    "data['total_fer'][data['total_fer']>=q4]=q4\n",
    "\n",
    "# outlier treatment for gdpp\n",
    "q1 = data.gdpp.quantile(0.05)\n",
    "q4 = data.gdpp.quantile(0.95)\n",
    "data['gdpp'][data['gdpp']<=q1]=q1\n",
    "data['gdpp'][data['gdpp']>=q4]=q4"
   ]
  },
  {
   "cell_type": "code",
   "execution_count": 63,
   "metadata": {},
   "outputs": [
    {
     "data": {
      "image/png": "[encoded data removed]",
      "text/plain": [
       "<Figure size 1224x720 with 9 Axes>"
      ]
     },
     "metadata": {
      "needs_background": "light"
     },
     "output_type": "display_data"
    }
   ],
   "source": [
    "# again checking for outliers\n",
    "plt.figure(figsize=(17,10))\n",
    "features = ['child_mort', 'exports', 'health', 'imports', 'income', 'inflation', 'life_expec', 'total_fer', 'gdpp']\n",
    "for i in enumerate(features):\n",
    "    plt.subplot(3,3,i[0]+1)\n",
    "    sns.boxplot(data[i[1]])"
   ]
  },
  {
   "cell_type": "markdown",
   "metadata": {},
   "source": [
    "Here we see that almost all the outliers have been treated, now we can use the data for modelling"
   ]
  },
  {
   "cell_type": "markdown",
   "metadata": {},
   "source": [
    "## Step 3:- Preparing the data for modelling "
   ]
  },
  {
   "cell_type": "code",
   "execution_count": 64,
   "metadata": {},
   "outputs": [
    {
     "data": {
      "text/html": [
       "<div>\n",
       "<style scoped>\n",
       "    .dataframe tbody tr th:only-of-type {\n",
       "        vertical-align: middle;\n",
       "    }\n",
       "\n",
       "    .dataframe tbody tr th {\n",
       "        vertical-align: top;\n",
       "    }\n",
       "\n",
       "    .dataframe thead th {\n",
       "        text-align: right;\n",
       "    }\n",
       "</style>\n",
       "<table border=\"1\" class=\"dataframe\">\n",
       "  <thead>\n",
       "    <tr style=\"text-align: right;\">\n",
       "      <th></th>\n",
       "      <th>country</th>\n",
       "      <th>child_mort</th>\n",
       "      <th>exports</th>\n",
       "      <th>health</th>\n",
       "      <th>imports</th>\n",
       "      <th>income</th>\n",
       "      <th>inflation</th>\n",
       "      <th>life_expec</th>\n",
       "      <th>total_fer</th>\n",
       "      <th>gdpp</th>\n",
       "    </tr>\n",
       "  </thead>\n",
       "  <tbody>\n",
       "    <tr>\n",
       "      <td>0</td>\n",
       "      <td>Afghanistan</td>\n",
       "      <td>90.2</td>\n",
       "      <td>12.12</td>\n",
       "      <td>7.58</td>\n",
       "      <td>44.9</td>\n",
       "      <td>1610.0</td>\n",
       "      <td>9.44</td>\n",
       "      <td>56.2</td>\n",
       "      <td>5.820</td>\n",
       "      <td>553.0</td>\n",
       "    </tr>\n",
       "    <tr>\n",
       "      <td>1</td>\n",
       "      <td>Albania</td>\n",
       "      <td>16.6</td>\n",
       "      <td>28.00</td>\n",
       "      <td>6.55</td>\n",
       "      <td>48.6</td>\n",
       "      <td>9930.0</td>\n",
       "      <td>4.49</td>\n",
       "      <td>76.3</td>\n",
       "      <td>1.650</td>\n",
       "      <td>4090.0</td>\n",
       "    </tr>\n",
       "    <tr>\n",
       "      <td>2</td>\n",
       "      <td>Algeria</td>\n",
       "      <td>27.3</td>\n",
       "      <td>38.40</td>\n",
       "      <td>4.17</td>\n",
       "      <td>31.4</td>\n",
       "      <td>12900.0</td>\n",
       "      <td>16.10</td>\n",
       "      <td>76.5</td>\n",
       "      <td>2.890</td>\n",
       "      <td>4460.0</td>\n",
       "    </tr>\n",
       "    <tr>\n",
       "      <td>3</td>\n",
       "      <td>Angola</td>\n",
       "      <td>116.0</td>\n",
       "      <td>62.30</td>\n",
       "      <td>2.85</td>\n",
       "      <td>42.9</td>\n",
       "      <td>5900.0</td>\n",
       "      <td>20.87</td>\n",
       "      <td>60.1</td>\n",
       "      <td>5.861</td>\n",
       "      <td>3530.0</td>\n",
       "    </tr>\n",
       "    <tr>\n",
       "      <td>4</td>\n",
       "      <td>Antigua and Barbuda</td>\n",
       "      <td>10.3</td>\n",
       "      <td>45.50</td>\n",
       "      <td>6.03</td>\n",
       "      <td>58.9</td>\n",
       "      <td>19100.0</td>\n",
       "      <td>1.44</td>\n",
       "      <td>76.8</td>\n",
       "      <td>2.130</td>\n",
       "      <td>12200.0</td>\n",
       "    </tr>\n",
       "  </tbody>\n",
       "</table>\n",
       "</div>"
      ],
      "text/plain": [
       "               country  child_mort  exports  health  imports   income  \\\n",
       "0          Afghanistan        90.2    12.12    7.58     44.9   1610.0   \n",
       "1              Albania        16.6    28.00    6.55     48.6   9930.0   \n",
       "2              Algeria        27.3    38.40    4.17     31.4  12900.0   \n",
       "3               Angola       116.0    62.30    2.85     42.9   5900.0   \n",
       "4  Antigua and Barbuda        10.3    45.50    6.03     58.9  19100.0   \n",
       "\n",
       "   inflation  life_expec  total_fer     gdpp  \n",
       "0       9.44        56.2      5.820    553.0  \n",
       "1       4.49        76.3      1.650   4090.0  \n",
       "2      16.10        76.5      2.890   4460.0  \n",
       "3      20.87        60.1      5.861   3530.0  \n",
       "4       1.44        76.8      2.130  12200.0  "
      ]
     },
     "execution_count": 64,
     "metadata": {},
     "output_type": "execute_result"
    }
   ],
   "source": [
    "# Before manipulating data, we will save one copy of orignal data.\n",
    "data_copy = data.copy()\n",
    "data_copy.head()"
   ]
  },
  {
   "cell_type": "code",
   "execution_count": 65,
   "metadata": {},
   "outputs": [
    {
     "data": {
      "text/html": [
       "<div>\n",
       "<style scoped>\n",
       "    .dataframe tbody tr th:only-of-type {\n",
       "        vertical-align: middle;\n",
       "    }\n",
       "\n",
       "    .dataframe tbody tr th {\n",
       "        vertical-align: top;\n",
       "    }\n",
       "\n",
       "    .dataframe thead th {\n",
       "        text-align: right;\n",
       "    }\n",
       "</style>\n",
       "<table border=\"1\" class=\"dataframe\">\n",
       "  <thead>\n",
       "    <tr style=\"text-align: right;\">\n",
       "      <th></th>\n",
       "      <th>child_mort</th>\n",
       "      <th>exports</th>\n",
       "      <th>health</th>\n",
       "      <th>imports</th>\n",
       "      <th>income</th>\n",
       "      <th>inflation</th>\n",
       "      <th>life_expec</th>\n",
       "      <th>total_fer</th>\n",
       "      <th>gdpp</th>\n",
       "    </tr>\n",
       "  </thead>\n",
       "  <tbody>\n",
       "    <tr>\n",
       "      <td>0</td>\n",
       "      <td>90.2</td>\n",
       "      <td>12.12</td>\n",
       "      <td>7.58</td>\n",
       "      <td>44.9</td>\n",
       "      <td>1610.0</td>\n",
       "      <td>9.44</td>\n",
       "      <td>56.2</td>\n",
       "      <td>5.820</td>\n",
       "      <td>553.0</td>\n",
       "    </tr>\n",
       "    <tr>\n",
       "      <td>1</td>\n",
       "      <td>16.6</td>\n",
       "      <td>28.00</td>\n",
       "      <td>6.55</td>\n",
       "      <td>48.6</td>\n",
       "      <td>9930.0</td>\n",
       "      <td>4.49</td>\n",
       "      <td>76.3</td>\n",
       "      <td>1.650</td>\n",
       "      <td>4090.0</td>\n",
       "    </tr>\n",
       "    <tr>\n",
       "      <td>2</td>\n",
       "      <td>27.3</td>\n",
       "      <td>38.40</td>\n",
       "      <td>4.17</td>\n",
       "      <td>31.4</td>\n",
       "      <td>12900.0</td>\n",
       "      <td>16.10</td>\n",
       "      <td>76.5</td>\n",
       "      <td>2.890</td>\n",
       "      <td>4460.0</td>\n",
       "    </tr>\n",
       "    <tr>\n",
       "      <td>3</td>\n",
       "      <td>116.0</td>\n",
       "      <td>62.30</td>\n",
       "      <td>2.85</td>\n",
       "      <td>42.9</td>\n",
       "      <td>5900.0</td>\n",
       "      <td>20.87</td>\n",
       "      <td>60.1</td>\n",
       "      <td>5.861</td>\n",
       "      <td>3530.0</td>\n",
       "    </tr>\n",
       "    <tr>\n",
       "      <td>4</td>\n",
       "      <td>10.3</td>\n",
       "      <td>45.50</td>\n",
       "      <td>6.03</td>\n",
       "      <td>58.9</td>\n",
       "      <td>19100.0</td>\n",
       "      <td>1.44</td>\n",
       "      <td>76.8</td>\n",
       "      <td>2.130</td>\n",
       "      <td>12200.0</td>\n",
       "    </tr>\n",
       "  </tbody>\n",
       "</table>\n",
       "</div>"
      ],
      "text/plain": [
       "   child_mort  exports  health  imports   income  inflation  life_expec  \\\n",
       "0        90.2    12.12    7.58     44.9   1610.0       9.44        56.2   \n",
       "1        16.6    28.00    6.55     48.6   9930.0       4.49        76.3   \n",
       "2        27.3    38.40    4.17     31.4  12900.0      16.10        76.5   \n",
       "3       116.0    62.30    2.85     42.9   5900.0      20.87        60.1   \n",
       "4        10.3    45.50    6.03     58.9  19100.0       1.44        76.8   \n",
       "\n",
       "   total_fer     gdpp  \n",
       "0      5.820    553.0  \n",
       "1      1.650   4090.0  \n",
       "2      2.890   4460.0  \n",
       "3      5.861   3530.0  \n",
       "4      2.130  12200.0  "
      ]
     },
     "execution_count": 65,
     "metadata": {},
     "output_type": "execute_result"
    }
   ],
   "source": [
    "# Dropping 'country' column\n",
    "data.drop('country', axis=1, inplace=True)\n",
    "data.head()"
   ]
  },
  {
   "cell_type": "markdown",
   "metadata": {},
   "source": [
    "### Scaling the Data"
   ]
  },
  {
   "cell_type": "code",
   "execution_count": 66,
   "metadata": {},
   "outputs": [],
   "source": [
    "scale = StandardScaler()\n",
    "data_copy2=scale.fit_transform(data)"
   ]
  },
  {
   "cell_type": "code",
   "execution_count": 67,
   "metadata": {},
   "outputs": [
    {
     "data": {
      "text/html": [
       "<div>\n",
       "<style scoped>\n",
       "    .dataframe tbody tr th:only-of-type {\n",
       "        vertical-align: middle;\n",
       "    }\n",
       "\n",
       "    .dataframe tbody tr th {\n",
       "        vertical-align: top;\n",
       "    }\n",
       "\n",
       "    .dataframe thead th {\n",
       "        text-align: right;\n",
       "    }\n",
       "</style>\n",
       "<table border=\"1\" class=\"dataframe\">\n",
       "  <thead>\n",
       "    <tr style=\"text-align: right;\">\n",
       "      <th></th>\n",
       "      <th>child_mort</th>\n",
       "      <th>exports</th>\n",
       "      <th>health</th>\n",
       "      <th>imports</th>\n",
       "      <th>income</th>\n",
       "      <th>inflation</th>\n",
       "      <th>life_expec</th>\n",
       "      <th>total_fer</th>\n",
       "      <th>gdpp</th>\n",
       "    </tr>\n",
       "  </thead>\n",
       "  <tbody>\n",
       "    <tr>\n",
       "      <td>0</td>\n",
       "      <td>1.479588</td>\n",
       "      <td>-1.371444</td>\n",
       "      <td>0.322232</td>\n",
       "      <td>-0.025440</td>\n",
       "      <td>-0.960575</td>\n",
       "      <td>0.387667</td>\n",
       "      <td>-1.825310</td>\n",
       "      <td>2.020718</td>\n",
       "      <td>-0.757874</td>\n",
       "    </tr>\n",
       "    <tr>\n",
       "      <td>1</td>\n",
       "      <td>-0.560024</td>\n",
       "      <td>-0.570493</td>\n",
       "      <td>-0.086218</td>\n",
       "      <td>0.177314</td>\n",
       "      <td>-0.395590</td>\n",
       "      <td>-0.404004</td>\n",
       "      <td>0.682454</td>\n",
       "      <td>-0.887331</td>\n",
       "      <td>-0.523775</td>\n",
       "    </tr>\n",
       "    <tr>\n",
       "      <td>2</td>\n",
       "      <td>-0.263504</td>\n",
       "      <td>-0.045941</td>\n",
       "      <td>-1.030017</td>\n",
       "      <td>-0.765221</td>\n",
       "      <td>-0.193907</td>\n",
       "      <td>1.452825</td>\n",
       "      <td>0.707406</td>\n",
       "      <td>-0.022587</td>\n",
       "      <td>-0.499286</td>\n",
       "    </tr>\n",
       "    <tr>\n",
       "      <td>3</td>\n",
       "      <td>2.194560</td>\n",
       "      <td>1.159521</td>\n",
       "      <td>-1.553469</td>\n",
       "      <td>-0.135037</td>\n",
       "      <td>-0.669255</td>\n",
       "      <td>2.215708</td>\n",
       "      <td>-1.338729</td>\n",
       "      <td>2.049310</td>\n",
       "      <td>-0.560839</td>\n",
       "    </tr>\n",
       "    <tr>\n",
       "      <td>4</td>\n",
       "      <td>-0.734610</td>\n",
       "      <td>0.312167</td>\n",
       "      <td>-0.292427</td>\n",
       "      <td>0.741740</td>\n",
       "      <td>0.227115</td>\n",
       "      <td>-0.891802</td>\n",
       "      <td>0.744836</td>\n",
       "      <td>-0.552591</td>\n",
       "      <td>0.012991</td>\n",
       "    </tr>\n",
       "  </tbody>\n",
       "</table>\n",
       "</div>"
      ],
      "text/plain": [
       "   child_mort   exports    health   imports    income  inflation  life_expec  \\\n",
       "0    1.479588 -1.371444  0.322232 -0.025440 -0.960575   0.387667   -1.825310   \n",
       "1   -0.560024 -0.570493 -0.086218  0.177314 -0.395590  -0.404004    0.682454   \n",
       "2   -0.263504 -0.045941 -1.030017 -0.765221 -0.193907   1.452825    0.707406   \n",
       "3    2.194560  1.159521 -1.553469 -0.135037 -0.669255   2.215708   -1.338729   \n",
       "4   -0.734610  0.312167 -0.292427  0.741740  0.227115  -0.891802    0.744836   \n",
       "\n",
       "   total_fer      gdpp  \n",
       "0   2.020718 -0.757874  \n",
       "1  -0.887331 -0.523775  \n",
       "2  -0.022587 -0.499286  \n",
       "3   2.049310 -0.560839  \n",
       "4  -0.552591  0.012991  "
      ]
     },
     "execution_count": 67,
     "metadata": {},
     "output_type": "execute_result"
    }
   ],
   "source": [
    "data_copy2= pd.DataFrame(data_copy2)\n",
    "data_copy2.columns = ['child_mort','exports','health','imports','income','inflation','life_expec','total_fer','gdpp']\n",
    "data_copy2.head()"
   ]
  },
  {
   "cell_type": "markdown",
   "metadata": {},
   "source": [
    "## Step 4:- Modelling"
   ]
  },
  {
   "cell_type": "code",
   "execution_count": 68,
   "metadata": {},
   "outputs": [],
   "source": [
    "# checking cluster tendency by Hopkins\n",
    "\n",
    "from sklearn.neighbors import NearestNeighbors\n",
    "from random import sample\n",
    "from numpy.random import uniform\n",
    "import numpy as np\n",
    "from math import isnan\n",
    " \n",
    "def hopkins(X):\n",
    "    d = X.shape[1]\n",
    "    #d = len(vars) # columns\n",
    "    n = len(X) # rows\n",
    "    m = int(0.1 * n) \n",
    "    nbrs = NearestNeighbors(n_neighbors=1).fit(X.values)\n",
    " \n",
    "    rand_X = sample(range(0, n, 1), m)\n",
    " \n",
    "    ujd = []\n",
    "    wjd = []\n",
    "    for j in range(0, m):\n",
    "        u_dist, _ = nbrs.kneighbors(uniform(np.amin(X,axis=0),np.amax(X,axis=0),d).reshape(1, -1), 2, return_distance=True)\n",
    "        ujd.append(u_dist[0][1])\n",
    "        w_dist, _ = nbrs.kneighbors(X.iloc[rand_X[j]].values.reshape(1, -1), 2, return_distance=True)\n",
    "        wjd.append(w_dist[0][1])\n",
    " \n",
    "    H = sum(ujd) / (sum(ujd) + sum(wjd))\n",
    "    if isnan(H):\n",
    "        print(ujd, wjd)\n",
    "        H = 0\n",
    " \n",
    "    return H"
   ]
  },
  {
   "cell_type": "code",
   "execution_count": 69,
   "metadata": {},
   "outputs": [
    {
     "data": {
      "text/plain": [
       "0.7442664838634608"
      ]
     },
     "execution_count": 69,
     "metadata": {},
     "output_type": "execute_result"
    }
   ],
   "source": [
    "hopkins(data_copy2)"
   ]
  },
  {
   "cell_type": "markdown",
   "metadata": {},
   "source": [
    "The Hopkins statistic, is a statistic which gives a value which indicates the cluster tendency, in other words: how well the data can be clustered.\n",
    "\n",
    "If the value is between {0.01, ...,0.3}, the data is regularly spaced.\n",
    "\n",
    "If the value is around 0.5, it is random.\n",
    "\n",
    "If the value is between {0.7, ..., 0.99}, it has a high tendency to cluster."
   ]
  },
  {
   "cell_type": "code",
   "execution_count": 70,
   "metadata": {},
   "outputs": [],
   "source": [
    "# Since our obtained value is between 0.7 and 0.9 \n",
    "# It shows that the prepared data is very different from the randomly generated data.\n",
    "# Which also means it has a high tendency to cluster."
   ]
  },
  {
   "cell_type": "markdown",
   "metadata": {},
   "source": [
    "### K Means"
   ]
  },
  {
   "cell_type": "markdown",
   "metadata": {},
   "source": [
    "Choose the value of K"
   ]
  },
  {
   "cell_type": "code",
   "execution_count": 71,
   "metadata": {},
   "outputs": [
    {
     "data": {
      "text/plain": [
       "[<matplotlib.lines.Line2D at 0x23219ba3f88>]"
      ]
     },
     "execution_count": 71,
     "metadata": {},
     "output_type": "execute_result"
    },
    {
     "data": {
      "image/png": "[encoded data removed]",
      "text/plain": [
       "<Figure size 432x288 with 1 Axes>"
      ]
     },
     "metadata": {
      "needs_background": "light"
     },
     "output_type": "display_data"
    }
   ],
   "source": [
    "# silhouette curve\n",
    "ss = []\n",
    "for k in range(2,10):\n",
    "    kmeans=KMeans(n_clusters=k).fit(data_copy2)\n",
    "    ss.append([k, silhouette_score(data_copy2, kmeans.labels_)])\n",
    "plt.plot(pd.DataFrame(ss)[0], pd.DataFrame(ss)[1])"
   ]
  },
  {
   "cell_type": "code",
   "execution_count": 72,
   "metadata": {},
   "outputs": [
    {
     "data": {
      "text/plain": [
       "[<matplotlib.lines.Line2D at 0x23219802bc8>]"
      ]
     },
     "execution_count": 72,
     "metadata": {},
     "output_type": "execute_result"
    },
    {
     "data": {
      "image/png": "[encoded data removed]",
      "text/plain": [
       "<Figure size 432x288 with 1 Axes>"
      ]
     },
     "metadata": {
      "needs_background": "light"
     },
     "output_type": "display_data"
    }
   ],
   "source": [
    "# Elbow curve\n",
    "ssd = []\n",
    "for k in range(2,10):\n",
    "    model=KMeans(n_clusters=k).fit(data_copy2)\n",
    "    ssd.append([k, model.inertia_])\n",
    "plt.plot(pd.DataFrame(ssd)[0], pd.DataFrame(ssd)[1])"
   ]
  },
  {
   "cell_type": "markdown",
   "metadata": {},
   "source": [
    "here we can see that we get elbows at 3, 4, 5 and 7"
   ]
  },
  {
   "cell_type": "markdown",
   "metadata": {},
   "source": [
    "we will take the first elbow i.e. 3 as value of k, "
   ]
  },
  {
   "cell_type": "markdown",
   "metadata": {},
   "source": [
    "because other elbows will end up having so many clusters"
   ]
  },
  {
   "cell_type": "markdown",
   "metadata": {},
   "source": [
    "#### Running k mean with value 3\n"
   ]
  },
  {
   "cell_type": "code",
   "execution_count": 73,
   "metadata": {},
   "outputs": [
    {
     "data": {
      "text/plain": [
       "KMeans(algorithm='auto', copy_x=True, init='k-means++', max_iter=300,\n",
       "       n_clusters=3, n_init=10, n_jobs=None, precompute_distances='auto',\n",
       "       random_state=50, tol=0.0001, verbose=0)"
      ]
     },
     "execution_count": 73,
     "metadata": {},
     "output_type": "execute_result"
    }
   ],
   "source": [
    "kmean = KMeans(n_clusters = 3, random_state = 50) #here we use random_state to ensure that the labels given to each clusters are same all the time\n",
    "kmean.fit(data_copy2)"
   ]
  },
  {
   "cell_type": "code",
   "execution_count": 74,
   "metadata": {},
   "outputs": [
    {
     "data": {
      "text/plain": [
       "array([0, 1, 1, 0, 1, 1, 1, 2, 2, 1, 2, 2, 1, 1, 1, 2, 1, 0, 1, 1, 1, 0,\n",
       "       1, 2, 1, 0, 0, 1, 0, 2, 1, 0, 0, 1, 1, 1, 0, 0, 0, 1, 0, 1, 2, 2,\n",
       "       2, 1, 1, 1, 1, 0, 0, 1, 1, 2, 2, 0, 0, 1, 2, 0, 2, 1, 1, 0, 0, 1,\n",
       "       0, 1, 2, 0, 1, 1, 0, 2, 2, 2, 1, 2, 1, 1, 0, 0, 2, 1, 0, 1, 1, 0,\n",
       "       0, 1, 1, 2, 1, 0, 0, 1, 1, 0, 2, 0, 1, 1, 1, 1, 1, 1, 0, 0, 0, 0,\n",
       "       2, 2, 0, 0, 2, 1, 0, 1, 1, 1, 1, 1, 2, 2, 1, 1, 0, 1, 1, 0, 1, 1,\n",
       "       0, 2, 2, 2, 1, 0, 2, 2, 1, 1, 0, 1, 2, 2, 0, 0, 1, 0, 0, 1, 1, 1,\n",
       "       1, 0, 1, 2, 2, 2, 1, 1, 1, 1, 1, 0, 0])"
      ]
     },
     "execution_count": 74,
     "metadata": {},
     "output_type": "execute_result"
    }
   ],
   "source": [
    "# visualising the labels\n",
    "kmean.labels_"
   ]
  },
  {
   "cell_type": "code",
   "execution_count": 75,
   "metadata": {},
   "outputs": [
    {
     "data": {
      "text/html": [
       "<div>\n",
       "<style scoped>\n",
       "    .dataframe tbody tr th:only-of-type {\n",
       "        vertical-align: middle;\n",
       "    }\n",
       "\n",
       "    .dataframe tbody tr th {\n",
       "        vertical-align: top;\n",
       "    }\n",
       "\n",
       "    .dataframe thead th {\n",
       "        text-align: right;\n",
       "    }\n",
       "</style>\n",
       "<table border=\"1\" class=\"dataframe\">\n",
       "  <thead>\n",
       "    <tr style=\"text-align: right;\">\n",
       "      <th></th>\n",
       "      <th>country</th>\n",
       "      <th>child_mort</th>\n",
       "      <th>exports</th>\n",
       "      <th>health</th>\n",
       "      <th>imports</th>\n",
       "      <th>income</th>\n",
       "      <th>inflation</th>\n",
       "      <th>life_expec</th>\n",
       "      <th>total_fer</th>\n",
       "      <th>gdpp</th>\n",
       "    </tr>\n",
       "  </thead>\n",
       "  <tbody>\n",
       "    <tr>\n",
       "      <td>0</td>\n",
       "      <td>Afghanistan</td>\n",
       "      <td>90.2</td>\n",
       "      <td>12.12</td>\n",
       "      <td>7.58</td>\n",
       "      <td>44.9</td>\n",
       "      <td>1610.0</td>\n",
       "      <td>9.44</td>\n",
       "      <td>56.2</td>\n",
       "      <td>5.820</td>\n",
       "      <td>553.0</td>\n",
       "    </tr>\n",
       "    <tr>\n",
       "      <td>1</td>\n",
       "      <td>Albania</td>\n",
       "      <td>16.6</td>\n",
       "      <td>28.00</td>\n",
       "      <td>6.55</td>\n",
       "      <td>48.6</td>\n",
       "      <td>9930.0</td>\n",
       "      <td>4.49</td>\n",
       "      <td>76.3</td>\n",
       "      <td>1.650</td>\n",
       "      <td>4090.0</td>\n",
       "    </tr>\n",
       "    <tr>\n",
       "      <td>2</td>\n",
       "      <td>Algeria</td>\n",
       "      <td>27.3</td>\n",
       "      <td>38.40</td>\n",
       "      <td>4.17</td>\n",
       "      <td>31.4</td>\n",
       "      <td>12900.0</td>\n",
       "      <td>16.10</td>\n",
       "      <td>76.5</td>\n",
       "      <td>2.890</td>\n",
       "      <td>4460.0</td>\n",
       "    </tr>\n",
       "    <tr>\n",
       "      <td>3</td>\n",
       "      <td>Angola</td>\n",
       "      <td>116.0</td>\n",
       "      <td>62.30</td>\n",
       "      <td>2.85</td>\n",
       "      <td>42.9</td>\n",
       "      <td>5900.0</td>\n",
       "      <td>20.87</td>\n",
       "      <td>60.1</td>\n",
       "      <td>5.861</td>\n",
       "      <td>3530.0</td>\n",
       "    </tr>\n",
       "    <tr>\n",
       "      <td>4</td>\n",
       "      <td>Antigua and Barbuda</td>\n",
       "      <td>10.3</td>\n",
       "      <td>45.50</td>\n",
       "      <td>6.03</td>\n",
       "      <td>58.9</td>\n",
       "      <td>19100.0</td>\n",
       "      <td>1.44</td>\n",
       "      <td>76.8</td>\n",
       "      <td>2.130</td>\n",
       "      <td>12200.0</td>\n",
       "    </tr>\n",
       "  </tbody>\n",
       "</table>\n",
       "</div>"
      ],
      "text/plain": [
       "               country  child_mort  exports  health  imports   income  \\\n",
       "0          Afghanistan        90.2    12.12    7.58     44.9   1610.0   \n",
       "1              Albania        16.6    28.00    6.55     48.6   9930.0   \n",
       "2              Algeria        27.3    38.40    4.17     31.4  12900.0   \n",
       "3               Angola       116.0    62.30    2.85     42.9   5900.0   \n",
       "4  Antigua and Barbuda        10.3    45.50    6.03     58.9  19100.0   \n",
       "\n",
       "   inflation  life_expec  total_fer     gdpp  \n",
       "0       9.44        56.2      5.820    553.0  \n",
       "1       4.49        76.3      1.650   4090.0  \n",
       "2      16.10        76.5      2.890   4460.0  \n",
       "3      20.87        60.1      5.861   3530.0  \n",
       "4       1.44        76.8      2.130  12200.0  "
      ]
     },
     "execution_count": 75,
     "metadata": {},
     "output_type": "execute_result"
    }
   ],
   "source": [
    "data_copy.head()"
   ]
  },
  {
   "cell_type": "code",
   "execution_count": 76,
   "metadata": {},
   "outputs": [],
   "source": [
    "# adding labels to the data frame\n",
    "data_km = pd.concat([data_copy, pd.Series(kmean.labels_)], axis =1)"
   ]
  },
  {
   "cell_type": "code",
   "execution_count": 77,
   "metadata": {},
   "outputs": [
    {
     "data": {
      "text/html": [
       "<div>\n",
       "<style scoped>\n",
       "    .dataframe tbody tr th:only-of-type {\n",
       "        vertical-align: middle;\n",
       "    }\n",
       "\n",
       "    .dataframe tbody tr th {\n",
       "        vertical-align: top;\n",
       "    }\n",
       "\n",
       "    .dataframe thead th {\n",
       "        text-align: right;\n",
       "    }\n",
       "</style>\n",
       "<table border=\"1\" class=\"dataframe\">\n",
       "  <thead>\n",
       "    <tr style=\"text-align: right;\">\n",
       "      <th></th>\n",
       "      <th>country</th>\n",
       "      <th>child_mort</th>\n",
       "      <th>exports</th>\n",
       "      <th>health</th>\n",
       "      <th>imports</th>\n",
       "      <th>income</th>\n",
       "      <th>inflation</th>\n",
       "      <th>life_expec</th>\n",
       "      <th>total_fer</th>\n",
       "      <th>gdpp</th>\n",
       "      <th>0</th>\n",
       "    </tr>\n",
       "  </thead>\n",
       "  <tbody>\n",
       "    <tr>\n",
       "      <td>0</td>\n",
       "      <td>Afghanistan</td>\n",
       "      <td>90.2</td>\n",
       "      <td>12.12</td>\n",
       "      <td>7.58</td>\n",
       "      <td>44.9</td>\n",
       "      <td>1610.0</td>\n",
       "      <td>9.44</td>\n",
       "      <td>56.2</td>\n",
       "      <td>5.820</td>\n",
       "      <td>553.0</td>\n",
       "      <td>0</td>\n",
       "    </tr>\n",
       "    <tr>\n",
       "      <td>1</td>\n",
       "      <td>Albania</td>\n",
       "      <td>16.6</td>\n",
       "      <td>28.00</td>\n",
       "      <td>6.55</td>\n",
       "      <td>48.6</td>\n",
       "      <td>9930.0</td>\n",
       "      <td>4.49</td>\n",
       "      <td>76.3</td>\n",
       "      <td>1.650</td>\n",
       "      <td>4090.0</td>\n",
       "      <td>1</td>\n",
       "    </tr>\n",
       "    <tr>\n",
       "      <td>2</td>\n",
       "      <td>Algeria</td>\n",
       "      <td>27.3</td>\n",
       "      <td>38.40</td>\n",
       "      <td>4.17</td>\n",
       "      <td>31.4</td>\n",
       "      <td>12900.0</td>\n",
       "      <td>16.10</td>\n",
       "      <td>76.5</td>\n",
       "      <td>2.890</td>\n",
       "      <td>4460.0</td>\n",
       "      <td>1</td>\n",
       "    </tr>\n",
       "    <tr>\n",
       "      <td>3</td>\n",
       "      <td>Angola</td>\n",
       "      <td>116.0</td>\n",
       "      <td>62.30</td>\n",
       "      <td>2.85</td>\n",
       "      <td>42.9</td>\n",
       "      <td>5900.0</td>\n",
       "      <td>20.87</td>\n",
       "      <td>60.1</td>\n",
       "      <td>5.861</td>\n",
       "      <td>3530.0</td>\n",
       "      <td>0</td>\n",
       "    </tr>\n",
       "    <tr>\n",
       "      <td>4</td>\n",
       "      <td>Antigua and Barbuda</td>\n",
       "      <td>10.3</td>\n",
       "      <td>45.50</td>\n",
       "      <td>6.03</td>\n",
       "      <td>58.9</td>\n",
       "      <td>19100.0</td>\n",
       "      <td>1.44</td>\n",
       "      <td>76.8</td>\n",
       "      <td>2.130</td>\n",
       "      <td>12200.0</td>\n",
       "      <td>1</td>\n",
       "    </tr>\n",
       "  </tbody>\n",
       "</table>\n",
       "</div>"
      ],
      "text/plain": [
       "               country  child_mort  exports  health  imports   income  \\\n",
       "0          Afghanistan        90.2    12.12    7.58     44.9   1610.0   \n",
       "1              Albania        16.6    28.00    6.55     48.6   9930.0   \n",
       "2              Algeria        27.3    38.40    4.17     31.4  12900.0   \n",
       "3               Angola       116.0    62.30    2.85     42.9   5900.0   \n",
       "4  Antigua and Barbuda        10.3    45.50    6.03     58.9  19100.0   \n",
       "\n",
       "   inflation  life_expec  total_fer     gdpp  0  \n",
       "0       9.44        56.2      5.820    553.0  0  \n",
       "1       4.49        76.3      1.650   4090.0  1  \n",
       "2      16.10        76.5      2.890   4460.0  1  \n",
       "3      20.87        60.1      5.861   3530.0  0  \n",
       "4       1.44        76.8      2.130  12200.0  1  "
      ]
     },
     "execution_count": 77,
     "metadata": {},
     "output_type": "execute_result"
    }
   ],
   "source": [
    "data_km.head()"
   ]
  },
  {
   "cell_type": "markdown",
   "metadata": {},
   "source": [
    "### Cluster Profiling"
   ]
  },
  {
   "cell_type": "code",
   "execution_count": 78,
   "metadata": {},
   "outputs": [
    {
     "data": {
      "text/html": [
       "<div>\n",
       "<style scoped>\n",
       "    .dataframe tbody tr th:only-of-type {\n",
       "        vertical-align: middle;\n",
       "    }\n",
       "\n",
       "    .dataframe tbody tr th {\n",
       "        vertical-align: top;\n",
       "    }\n",
       "\n",
       "    .dataframe thead th {\n",
       "        text-align: right;\n",
       "    }\n",
       "</style>\n",
       "<table border=\"1\" class=\"dataframe\">\n",
       "  <thead>\n",
       "    <tr style=\"text-align: right;\">\n",
       "      <th></th>\n",
       "      <th>country</th>\n",
       "      <th>child_mort</th>\n",
       "      <th>exports</th>\n",
       "      <th>health</th>\n",
       "      <th>imports</th>\n",
       "      <th>income</th>\n",
       "      <th>inflation</th>\n",
       "      <th>life_expec</th>\n",
       "      <th>total_fer</th>\n",
       "      <th>gdpp</th>\n",
       "      <th>label</th>\n",
       "    </tr>\n",
       "  </thead>\n",
       "  <tbody>\n",
       "    <tr>\n",
       "      <td>0</td>\n",
       "      <td>Afghanistan</td>\n",
       "      <td>90.2</td>\n",
       "      <td>12.12</td>\n",
       "      <td>7.58</td>\n",
       "      <td>44.9</td>\n",
       "      <td>1610.0</td>\n",
       "      <td>9.44</td>\n",
       "      <td>56.2</td>\n",
       "      <td>5.820</td>\n",
       "      <td>553.0</td>\n",
       "      <td>0</td>\n",
       "    </tr>\n",
       "    <tr>\n",
       "      <td>1</td>\n",
       "      <td>Albania</td>\n",
       "      <td>16.6</td>\n",
       "      <td>28.00</td>\n",
       "      <td>6.55</td>\n",
       "      <td>48.6</td>\n",
       "      <td>9930.0</td>\n",
       "      <td>4.49</td>\n",
       "      <td>76.3</td>\n",
       "      <td>1.650</td>\n",
       "      <td>4090.0</td>\n",
       "      <td>1</td>\n",
       "    </tr>\n",
       "    <tr>\n",
       "      <td>2</td>\n",
       "      <td>Algeria</td>\n",
       "      <td>27.3</td>\n",
       "      <td>38.40</td>\n",
       "      <td>4.17</td>\n",
       "      <td>31.4</td>\n",
       "      <td>12900.0</td>\n",
       "      <td>16.10</td>\n",
       "      <td>76.5</td>\n",
       "      <td>2.890</td>\n",
       "      <td>4460.0</td>\n",
       "      <td>1</td>\n",
       "    </tr>\n",
       "    <tr>\n",
       "      <td>3</td>\n",
       "      <td>Angola</td>\n",
       "      <td>116.0</td>\n",
       "      <td>62.30</td>\n",
       "      <td>2.85</td>\n",
       "      <td>42.9</td>\n",
       "      <td>5900.0</td>\n",
       "      <td>20.87</td>\n",
       "      <td>60.1</td>\n",
       "      <td>5.861</td>\n",
       "      <td>3530.0</td>\n",
       "      <td>0</td>\n",
       "    </tr>\n",
       "    <tr>\n",
       "      <td>4</td>\n",
       "      <td>Antigua and Barbuda</td>\n",
       "      <td>10.3</td>\n",
       "      <td>45.50</td>\n",
       "      <td>6.03</td>\n",
       "      <td>58.9</td>\n",
       "      <td>19100.0</td>\n",
       "      <td>1.44</td>\n",
       "      <td>76.8</td>\n",
       "      <td>2.130</td>\n",
       "      <td>12200.0</td>\n",
       "      <td>1</td>\n",
       "    </tr>\n",
       "  </tbody>\n",
       "</table>\n",
       "</div>"
      ],
      "text/plain": [
       "               country  child_mort  exports  health  imports   income  \\\n",
       "0          Afghanistan        90.2    12.12    7.58     44.9   1610.0   \n",
       "1              Albania        16.6    28.00    6.55     48.6   9930.0   \n",
       "2              Algeria        27.3    38.40    4.17     31.4  12900.0   \n",
       "3               Angola       116.0    62.30    2.85     42.9   5900.0   \n",
       "4  Antigua and Barbuda        10.3    45.50    6.03     58.9  19100.0   \n",
       "\n",
       "   inflation  life_expec  total_fer     gdpp  label  \n",
       "0       9.44        56.2      5.820    553.0      0  \n",
       "1       4.49        76.3      1.650   4090.0      1  \n",
       "2      16.10        76.5      2.890   4460.0      1  \n",
       "3      20.87        60.1      5.861   3530.0      0  \n",
       "4       1.44        76.8      2.130  12200.0      1  "
      ]
     },
     "execution_count": 78,
     "metadata": {},
     "output_type": "execute_result"
    }
   ],
   "source": [
    "# changing name of column\n",
    "data_km.columns = ['country', 'child_mort', 'exports', 'health', 'imports', 'income', 'inflation', 'life_expec', 'total_fer', 'gdpp', 'label']\n",
    "data_km.head()"
   ]
  },
  {
   "cell_type": "code",
   "execution_count": 79,
   "metadata": {},
   "outputs": [
    {
     "data": {
      "text/plain": [
       "1    79\n",
       "0    51\n",
       "2    37\n",
       "Name: label, dtype: int64"
      ]
     },
     "execution_count": 79,
     "metadata": {},
     "output_type": "execute_result"
    }
   ],
   "source": [
    "# checking number of data points in each cluster\n",
    "data_km.label.value_counts()"
   ]
  },
  {
   "cell_type": "code",
   "execution_count": 80,
   "metadata": {},
   "outputs": [
    {
     "data": {
      "text/plain": [
       "<matplotlib.axes._subplots.AxesSubplot at 0x2321984d888>"
      ]
     },
     "execution_count": 80,
     "metadata": {},
     "output_type": "execute_result"
    },
    {
     "data": {
      "image/png": "[encoded data removed]",
      "text/plain": [
       "<Figure size 432x288 with 1 Axes>"
      ]
     },
     "metadata": {
      "needs_background": "light"
     },
     "output_type": "display_data"
    }
   ],
   "source": [
    "# distribution of labels between child_mort and gdpp\n",
    "sns.scatterplot(x = \"child_mort\" , y = \"gdpp\", hue = 'label', data = data_km, palette = \"Set1\")"
   ]
  },
  {
   "cell_type": "code",
   "execution_count": 81,
   "metadata": {},
   "outputs": [
    {
     "data": {
      "text/plain": [
       "<matplotlib.axes._subplots.AxesSubplot at 0x232198ee848>"
      ]
     },
     "execution_count": 81,
     "metadata": {},
     "output_type": "execute_result"
    },
    {
     "data": {
      "image/png": "[encoded data removed]",
      "text/plain": [
       "<Figure size 432x288 with 1 Axes>"
      ]
     },
     "metadata": {
      "needs_background": "light"
     },
     "output_type": "display_data"
    }
   ],
   "source": [
    "# distribution of labels between income and gdpp\n",
    "sns.scatterplot(x = \"income\" , y = \"gdpp\", hue = 'label', data = data_km, palette = \"Set1\")"
   ]
  },
  {
   "cell_type": "code",
   "execution_count": 82,
   "metadata": {},
   "outputs": [
    {
     "data": {
      "text/plain": [
       "<matplotlib.axes._subplots.AxesSubplot at 0x23218f14c48>"
      ]
     },
     "execution_count": 82,
     "metadata": {},
     "output_type": "execute_result"
    },
    {
     "data": {
      "image/png": "[encoded data removed]",
      "text/plain": [
       "<Figure size 432x288 with 1 Axes>"
      ]
     },
     "metadata": {
      "needs_background": "light"
     },
     "output_type": "display_data"
    }
   ],
   "source": [
    "# distribution of labels between child_mort and income\n",
    "sns.scatterplot(x = \"income\" , y = \"child_mort\", hue = 'label', data = data_km, palette = \"Set1\")"
   ]
  },
  {
   "cell_type": "code",
   "execution_count": 83,
   "metadata": {
    "scrolled": true
   },
   "outputs": [
    {
     "data": {
      "text/plain": [
       "<matplotlib.axes._subplots.AxesSubplot at 0x2321896ef88>"
      ]
     },
     "execution_count": 83,
     "metadata": {},
     "output_type": "execute_result"
    },
    {
     "data": {
      "image/png": "[encoded data removed]",
      "text/plain": [
       "<Figure size 432x288 with 1 Axes>"
      ]
     },
     "metadata": {
      "needs_background": "light"
     },
     "output_type": "display_data"
    }
   ],
   "source": [
    "data_km[['child_mort', 'label']].groupby(\"label\").mean().plot(kind = 'bar')"
   ]
  },
  {
   "cell_type": "code",
   "execution_count": 84,
   "metadata": {},
   "outputs": [
    {
     "data": {
      "text/plain": [
       "<matplotlib.axes._subplots.AxesSubplot at 0x23218c88e88>"
      ]
     },
     "execution_count": 84,
     "metadata": {},
     "output_type": "execute_result"
    },
    {
     "data": {
      "image/png": "[encoded data removed]",
      "text/plain": [
       "<Figure size 432x288 with 1 Axes>"
      ]
     },
     "metadata": {
      "needs_background": "light"
     },
     "output_type": "display_data"
    }
   ],
   "source": [
    "data_km[['gdpp', 'label']].groupby(\"label\").mean().plot(kind = 'bar')"
   ]
  },
  {
   "cell_type": "code",
   "execution_count": 85,
   "metadata": {},
   "outputs": [
    {
     "data": {
      "text/plain": [
       "<matplotlib.axes._subplots.AxesSubplot at 0x232195a1c48>"
      ]
     },
     "execution_count": 85,
     "metadata": {},
     "output_type": "execute_result"
    },
    {
     "data": {
      "image/png": "[encoded data removed]",
      "text/plain": [
       "<Figure size 432x288 with 1 Axes>"
      ]
     },
     "metadata": {
      "needs_background": "light"
     },
     "output_type": "display_data"
    }
   ],
   "source": [
    "data_km[['income', 'label']].groupby(\"label\").mean().plot(kind = 'bar')"
   ]
  },
  {
   "cell_type": "markdown",
   "metadata": {},
   "source": [
    "Here we can see that cluster 0 has low gdpp, low income anh high child_mort"
   ]
  },
  {
   "cell_type": "markdown",
   "metadata": {},
   "source": [
    "Hence we can say that countries under cluster 0 are the ones which are in need for the aid"
   ]
  },
  {
   "cell_type": "code",
   "execution_count": 86,
   "metadata": {},
   "outputs": [
    {
     "data": {
      "text/html": [
       "<div>\n",
       "<style scoped>\n",
       "    .dataframe tbody tr th:only-of-type {\n",
       "        vertical-align: middle;\n",
       "    }\n",
       "\n",
       "    .dataframe tbody tr th {\n",
       "        vertical-align: top;\n",
       "    }\n",
       "\n",
       "    .dataframe thead th {\n",
       "        text-align: right;\n",
       "    }\n",
       "</style>\n",
       "<table border=\"1\" class=\"dataframe\">\n",
       "  <thead>\n",
       "    <tr style=\"text-align: right;\">\n",
       "      <th></th>\n",
       "      <th>country</th>\n",
       "      <th>child_mort</th>\n",
       "      <th>exports</th>\n",
       "      <th>health</th>\n",
       "      <th>imports</th>\n",
       "      <th>income</th>\n",
       "      <th>inflation</th>\n",
       "      <th>life_expec</th>\n",
       "      <th>total_fer</th>\n",
       "      <th>gdpp</th>\n",
       "      <th>label</th>\n",
       "    </tr>\n",
       "  </thead>\n",
       "  <tbody>\n",
       "    <tr>\n",
       "      <td>31</td>\n",
       "      <td>Central African Republic</td>\n",
       "      <td>116.0</td>\n",
       "      <td>12.12</td>\n",
       "      <td>3.980</td>\n",
       "      <td>26.50</td>\n",
       "      <td>1213.0</td>\n",
       "      <td>2.010</td>\n",
       "      <td>55.78</td>\n",
       "      <td>5.210</td>\n",
       "      <td>465.9</td>\n",
       "      <td>0</td>\n",
       "    </tr>\n",
       "    <tr>\n",
       "      <td>37</td>\n",
       "      <td>Congo, Dem. Rep.</td>\n",
       "      <td>116.0</td>\n",
       "      <td>41.10</td>\n",
       "      <td>7.910</td>\n",
       "      <td>49.60</td>\n",
       "      <td>1213.0</td>\n",
       "      <td>20.800</td>\n",
       "      <td>57.50</td>\n",
       "      <td>5.861</td>\n",
       "      <td>465.9</td>\n",
       "      <td>0</td>\n",
       "    </tr>\n",
       "    <tr>\n",
       "      <td>112</td>\n",
       "      <td>Niger</td>\n",
       "      <td>116.0</td>\n",
       "      <td>22.20</td>\n",
       "      <td>5.160</td>\n",
       "      <td>49.10</td>\n",
       "      <td>1213.0</td>\n",
       "      <td>2.550</td>\n",
       "      <td>58.80</td>\n",
       "      <td>5.861</td>\n",
       "      <td>465.9</td>\n",
       "      <td>0</td>\n",
       "    </tr>\n",
       "    <tr>\n",
       "      <td>132</td>\n",
       "      <td>Sierra Leone</td>\n",
       "      <td>116.0</td>\n",
       "      <td>16.80</td>\n",
       "      <td>11.570</td>\n",
       "      <td>34.50</td>\n",
       "      <td>1220.0</td>\n",
       "      <td>17.200</td>\n",
       "      <td>55.78</td>\n",
       "      <td>5.200</td>\n",
       "      <td>465.9</td>\n",
       "      <td>0</td>\n",
       "    </tr>\n",
       "    <tr>\n",
       "      <td>106</td>\n",
       "      <td>Mozambique</td>\n",
       "      <td>101.0</td>\n",
       "      <td>31.50</td>\n",
       "      <td>5.210</td>\n",
       "      <td>46.20</td>\n",
       "      <td>1213.0</td>\n",
       "      <td>7.640</td>\n",
       "      <td>55.78</td>\n",
       "      <td>5.560</td>\n",
       "      <td>465.9</td>\n",
       "      <td>0</td>\n",
       "    </tr>\n",
       "    <tr>\n",
       "      <td>26</td>\n",
       "      <td>Burundi</td>\n",
       "      <td>93.6</td>\n",
       "      <td>12.12</td>\n",
       "      <td>11.570</td>\n",
       "      <td>39.20</td>\n",
       "      <td>1213.0</td>\n",
       "      <td>12.300</td>\n",
       "      <td>57.70</td>\n",
       "      <td>5.861</td>\n",
       "      <td>465.9</td>\n",
       "      <td>0</td>\n",
       "    </tr>\n",
       "    <tr>\n",
       "      <td>94</td>\n",
       "      <td>Malawi</td>\n",
       "      <td>90.5</td>\n",
       "      <td>22.80</td>\n",
       "      <td>6.590</td>\n",
       "      <td>34.90</td>\n",
       "      <td>1213.0</td>\n",
       "      <td>12.100</td>\n",
       "      <td>55.78</td>\n",
       "      <td>5.310</td>\n",
       "      <td>465.9</td>\n",
       "      <td>0</td>\n",
       "    </tr>\n",
       "    <tr>\n",
       "      <td>88</td>\n",
       "      <td>Liberia</td>\n",
       "      <td>89.3</td>\n",
       "      <td>19.10</td>\n",
       "      <td>11.570</td>\n",
       "      <td>81.14</td>\n",
       "      <td>1213.0</td>\n",
       "      <td>5.470</td>\n",
       "      <td>60.80</td>\n",
       "      <td>5.020</td>\n",
       "      <td>465.9</td>\n",
       "      <td>0</td>\n",
       "    </tr>\n",
       "    <tr>\n",
       "      <td>93</td>\n",
       "      <td>Madagascar</td>\n",
       "      <td>62.2</td>\n",
       "      <td>25.00</td>\n",
       "      <td>3.770</td>\n",
       "      <td>43.00</td>\n",
       "      <td>1390.0</td>\n",
       "      <td>8.790</td>\n",
       "      <td>60.80</td>\n",
       "      <td>4.600</td>\n",
       "      <td>465.9</td>\n",
       "      <td>0</td>\n",
       "    </tr>\n",
       "    <tr>\n",
       "      <td>50</td>\n",
       "      <td>Eritrea</td>\n",
       "      <td>55.2</td>\n",
       "      <td>12.12</td>\n",
       "      <td>2.791</td>\n",
       "      <td>23.30</td>\n",
       "      <td>1420.0</td>\n",
       "      <td>11.600</td>\n",
       "      <td>61.70</td>\n",
       "      <td>4.610</td>\n",
       "      <td>482.0</td>\n",
       "      <td>0</td>\n",
       "    </tr>\n",
       "    <tr>\n",
       "      <td>150</td>\n",
       "      <td>Togo</td>\n",
       "      <td>90.3</td>\n",
       "      <td>40.20</td>\n",
       "      <td>7.650</td>\n",
       "      <td>57.30</td>\n",
       "      <td>1213.0</td>\n",
       "      <td>1.180</td>\n",
       "      <td>58.70</td>\n",
       "      <td>4.870</td>\n",
       "      <td>488.0</td>\n",
       "      <td>0</td>\n",
       "    </tr>\n",
       "    <tr>\n",
       "      <td>64</td>\n",
       "      <td>Guinea-Bissau</td>\n",
       "      <td>114.0</td>\n",
       "      <td>14.90</td>\n",
       "      <td>8.500</td>\n",
       "      <td>35.20</td>\n",
       "      <td>1390.0</td>\n",
       "      <td>2.970</td>\n",
       "      <td>55.78</td>\n",
       "      <td>5.050</td>\n",
       "      <td>547.0</td>\n",
       "      <td>0</td>\n",
       "    </tr>\n",
       "    <tr>\n",
       "      <td>0</td>\n",
       "      <td>Afghanistan</td>\n",
       "      <td>90.2</td>\n",
       "      <td>12.12</td>\n",
       "      <td>7.580</td>\n",
       "      <td>44.90</td>\n",
       "      <td>1610.0</td>\n",
       "      <td>9.440</td>\n",
       "      <td>56.20</td>\n",
       "      <td>5.820</td>\n",
       "      <td>553.0</td>\n",
       "      <td>0</td>\n",
       "    </tr>\n",
       "    <tr>\n",
       "      <td>56</td>\n",
       "      <td>Gambia</td>\n",
       "      <td>80.3</td>\n",
       "      <td>23.80</td>\n",
       "      <td>5.690</td>\n",
       "      <td>42.70</td>\n",
       "      <td>1660.0</td>\n",
       "      <td>4.300</td>\n",
       "      <td>65.50</td>\n",
       "      <td>5.710</td>\n",
       "      <td>562.0</td>\n",
       "      <td>0</td>\n",
       "    </tr>\n",
       "    <tr>\n",
       "      <td>126</td>\n",
       "      <td>Rwanda</td>\n",
       "      <td>63.6</td>\n",
       "      <td>12.12</td>\n",
       "      <td>10.500</td>\n",
       "      <td>30.00</td>\n",
       "      <td>1350.0</td>\n",
       "      <td>2.610</td>\n",
       "      <td>64.60</td>\n",
       "      <td>4.510</td>\n",
       "      <td>563.0</td>\n",
       "      <td>0</td>\n",
       "    </tr>\n",
       "    <tr>\n",
       "      <td>25</td>\n",
       "      <td>Burkina Faso</td>\n",
       "      <td>116.0</td>\n",
       "      <td>19.20</td>\n",
       "      <td>6.740</td>\n",
       "      <td>29.60</td>\n",
       "      <td>1430.0</td>\n",
       "      <td>6.810</td>\n",
       "      <td>57.90</td>\n",
       "      <td>5.861</td>\n",
       "      <td>575.0</td>\n",
       "      <td>0</td>\n",
       "    </tr>\n",
       "    <tr>\n",
       "      <td>109</td>\n",
       "      <td>Nepal</td>\n",
       "      <td>47.0</td>\n",
       "      <td>12.12</td>\n",
       "      <td>5.250</td>\n",
       "      <td>36.40</td>\n",
       "      <td>1990.0</td>\n",
       "      <td>15.100</td>\n",
       "      <td>68.30</td>\n",
       "      <td>2.610</td>\n",
       "      <td>592.0</td>\n",
       "      <td>0</td>\n",
       "    </tr>\n",
       "    <tr>\n",
       "      <td>155</td>\n",
       "      <td>Uganda</td>\n",
       "      <td>81.0</td>\n",
       "      <td>17.10</td>\n",
       "      <td>9.010</td>\n",
       "      <td>28.60</td>\n",
       "      <td>1540.0</td>\n",
       "      <td>10.600</td>\n",
       "      <td>56.80</td>\n",
       "      <td>5.861</td>\n",
       "      <td>595.0</td>\n",
       "      <td>0</td>\n",
       "    </tr>\n",
       "    <tr>\n",
       "      <td>63</td>\n",
       "      <td>Guinea</td>\n",
       "      <td>109.0</td>\n",
       "      <td>30.30</td>\n",
       "      <td>4.930</td>\n",
       "      <td>43.20</td>\n",
       "      <td>1213.0</td>\n",
       "      <td>16.100</td>\n",
       "      <td>58.00</td>\n",
       "      <td>5.340</td>\n",
       "      <td>648.0</td>\n",
       "      <td>0</td>\n",
       "    </tr>\n",
       "    <tr>\n",
       "      <td>66</td>\n",
       "      <td>Haiti</td>\n",
       "      <td>116.0</td>\n",
       "      <td>15.30</td>\n",
       "      <td>6.910</td>\n",
       "      <td>64.70</td>\n",
       "      <td>1500.0</td>\n",
       "      <td>5.450</td>\n",
       "      <td>55.78</td>\n",
       "      <td>3.330</td>\n",
       "      <td>662.0</td>\n",
       "      <td>0</td>\n",
       "    </tr>\n",
       "    <tr>\n",
       "      <td>147</td>\n",
       "      <td>Tanzania</td>\n",
       "      <td>71.9</td>\n",
       "      <td>18.70</td>\n",
       "      <td>6.010</td>\n",
       "      <td>29.10</td>\n",
       "      <td>2090.0</td>\n",
       "      <td>9.250</td>\n",
       "      <td>59.30</td>\n",
       "      <td>5.430</td>\n",
       "      <td>702.0</td>\n",
       "      <td>0</td>\n",
       "    </tr>\n",
       "    <tr>\n",
       "      <td>97</td>\n",
       "      <td>Mali</td>\n",
       "      <td>116.0</td>\n",
       "      <td>22.80</td>\n",
       "      <td>4.980</td>\n",
       "      <td>35.10</td>\n",
       "      <td>1870.0</td>\n",
       "      <td>4.370</td>\n",
       "      <td>59.50</td>\n",
       "      <td>5.861</td>\n",
       "      <td>708.0</td>\n",
       "      <td>0</td>\n",
       "    </tr>\n",
       "    <tr>\n",
       "      <td>146</td>\n",
       "      <td>Tajikistan</td>\n",
       "      <td>52.4</td>\n",
       "      <td>14.90</td>\n",
       "      <td>5.980</td>\n",
       "      <td>58.60</td>\n",
       "      <td>2110.0</td>\n",
       "      <td>12.500</td>\n",
       "      <td>69.60</td>\n",
       "      <td>3.510</td>\n",
       "      <td>738.0</td>\n",
       "      <td>0</td>\n",
       "    </tr>\n",
       "    <tr>\n",
       "      <td>17</td>\n",
       "      <td>Benin</td>\n",
       "      <td>111.0</td>\n",
       "      <td>23.80</td>\n",
       "      <td>4.100</td>\n",
       "      <td>37.20</td>\n",
       "      <td>1820.0</td>\n",
       "      <td>0.885</td>\n",
       "      <td>61.80</td>\n",
       "      <td>5.360</td>\n",
       "      <td>758.0</td>\n",
       "      <td>0</td>\n",
       "    </tr>\n",
       "    <tr>\n",
       "      <td>36</td>\n",
       "      <td>Comoros</td>\n",
       "      <td>88.2</td>\n",
       "      <td>16.50</td>\n",
       "      <td>4.510</td>\n",
       "      <td>51.70</td>\n",
       "      <td>1410.0</td>\n",
       "      <td>3.870</td>\n",
       "      <td>65.90</td>\n",
       "      <td>4.750</td>\n",
       "      <td>769.0</td>\n",
       "      <td>0</td>\n",
       "    </tr>\n",
       "    <tr>\n",
       "      <td>32</td>\n",
       "      <td>Chad</td>\n",
       "      <td>116.0</td>\n",
       "      <td>36.80</td>\n",
       "      <td>4.530</td>\n",
       "      <td>43.50</td>\n",
       "      <td>1930.0</td>\n",
       "      <td>6.390</td>\n",
       "      <td>56.50</td>\n",
       "      <td>5.861</td>\n",
       "      <td>897.0</td>\n",
       "      <td>0</td>\n",
       "    </tr>\n",
       "    <tr>\n",
       "      <td>80</td>\n",
       "      <td>Kenya</td>\n",
       "      <td>62.2</td>\n",
       "      <td>20.70</td>\n",
       "      <td>4.750</td>\n",
       "      <td>33.60</td>\n",
       "      <td>2480.0</td>\n",
       "      <td>2.090</td>\n",
       "      <td>62.80</td>\n",
       "      <td>4.370</td>\n",
       "      <td>967.0</td>\n",
       "      <td>0</td>\n",
       "    </tr>\n",
       "    <tr>\n",
       "      <td>107</td>\n",
       "      <td>Myanmar</td>\n",
       "      <td>64.4</td>\n",
       "      <td>12.12</td>\n",
       "      <td>2.791</td>\n",
       "      <td>18.13</td>\n",
       "      <td>3720.0</td>\n",
       "      <td>7.040</td>\n",
       "      <td>66.80</td>\n",
       "      <td>2.410</td>\n",
       "      <td>988.0</td>\n",
       "      <td>0</td>\n",
       "    </tr>\n",
       "    <tr>\n",
       "      <td>129</td>\n",
       "      <td>Senegal</td>\n",
       "      <td>66.8</td>\n",
       "      <td>24.90</td>\n",
       "      <td>5.660</td>\n",
       "      <td>40.30</td>\n",
       "      <td>2180.0</td>\n",
       "      <td>1.850</td>\n",
       "      <td>64.00</td>\n",
       "      <td>5.060</td>\n",
       "      <td>1000.0</td>\n",
       "      <td>0</td>\n",
       "    </tr>\n",
       "    <tr>\n",
       "      <td>116</td>\n",
       "      <td>Pakistan</td>\n",
       "      <td>92.1</td>\n",
       "      <td>13.50</td>\n",
       "      <td>2.791</td>\n",
       "      <td>19.40</td>\n",
       "      <td>4280.0</td>\n",
       "      <td>10.900</td>\n",
       "      <td>65.30</td>\n",
       "      <td>3.850</td>\n",
       "      <td>1040.0</td>\n",
       "      <td>0</td>\n",
       "    </tr>\n",
       "    <tr>\n",
       "      <td>84</td>\n",
       "      <td>Lao</td>\n",
       "      <td>78.9</td>\n",
       "      <td>35.40</td>\n",
       "      <td>4.470</td>\n",
       "      <td>49.30</td>\n",
       "      <td>3980.0</td>\n",
       "      <td>9.200</td>\n",
       "      <td>63.80</td>\n",
       "      <td>3.150</td>\n",
       "      <td>1140.0</td>\n",
       "      <td>0</td>\n",
       "    </tr>\n",
       "    <tr>\n",
       "      <td>87</td>\n",
       "      <td>Lesotho</td>\n",
       "      <td>99.7</td>\n",
       "      <td>39.40</td>\n",
       "      <td>11.100</td>\n",
       "      <td>81.14</td>\n",
       "      <td>2380.0</td>\n",
       "      <td>4.150</td>\n",
       "      <td>55.78</td>\n",
       "      <td>3.300</td>\n",
       "      <td>1170.0</td>\n",
       "      <td>0</td>\n",
       "    </tr>\n",
       "    <tr>\n",
       "      <td>99</td>\n",
       "      <td>Mauritania</td>\n",
       "      <td>97.4</td>\n",
       "      <td>50.70</td>\n",
       "      <td>4.410</td>\n",
       "      <td>61.20</td>\n",
       "      <td>3320.0</td>\n",
       "      <td>18.900</td>\n",
       "      <td>68.20</td>\n",
       "      <td>4.980</td>\n",
       "      <td>1200.0</td>\n",
       "      <td>0</td>\n",
       "    </tr>\n",
       "    <tr>\n",
       "      <td>40</td>\n",
       "      <td>Cote d'Ivoire</td>\n",
       "      <td>111.0</td>\n",
       "      <td>50.60</td>\n",
       "      <td>5.300</td>\n",
       "      <td>43.30</td>\n",
       "      <td>2690.0</td>\n",
       "      <td>5.390</td>\n",
       "      <td>56.30</td>\n",
       "      <td>5.270</td>\n",
       "      <td>1220.0</td>\n",
       "      <td>0</td>\n",
       "    </tr>\n",
       "    <tr>\n",
       "      <td>28</td>\n",
       "      <td>Cameroon</td>\n",
       "      <td>108.0</td>\n",
       "      <td>22.20</td>\n",
       "      <td>5.130</td>\n",
       "      <td>27.00</td>\n",
       "      <td>2660.0</td>\n",
       "      <td>1.910</td>\n",
       "      <td>57.30</td>\n",
       "      <td>5.110</td>\n",
       "      <td>1310.0</td>\n",
       "      <td>0</td>\n",
       "    </tr>\n",
       "    <tr>\n",
       "      <td>59</td>\n",
       "      <td>Ghana</td>\n",
       "      <td>74.7</td>\n",
       "      <td>29.50</td>\n",
       "      <td>5.220</td>\n",
       "      <td>45.90</td>\n",
       "      <td>3060.0</td>\n",
       "      <td>16.600</td>\n",
       "      <td>62.20</td>\n",
       "      <td>4.270</td>\n",
       "      <td>1310.0</td>\n",
       "      <td>0</td>\n",
       "    </tr>\n",
       "    <tr>\n",
       "      <td>165</td>\n",
       "      <td>Yemen</td>\n",
       "      <td>56.3</td>\n",
       "      <td>30.00</td>\n",
       "      <td>5.180</td>\n",
       "      <td>34.40</td>\n",
       "      <td>4480.0</td>\n",
       "      <td>20.870</td>\n",
       "      <td>67.50</td>\n",
       "      <td>4.670</td>\n",
       "      <td>1310.0</td>\n",
       "      <td>0</td>\n",
       "    </tr>\n",
       "    <tr>\n",
       "      <td>69</td>\n",
       "      <td>India</td>\n",
       "      <td>58.8</td>\n",
       "      <td>22.60</td>\n",
       "      <td>4.050</td>\n",
       "      <td>27.10</td>\n",
       "      <td>4410.0</td>\n",
       "      <td>8.980</td>\n",
       "      <td>66.20</td>\n",
       "      <td>2.600</td>\n",
       "      <td>1350.0</td>\n",
       "      <td>0</td>\n",
       "    </tr>\n",
       "    <tr>\n",
       "      <td>166</td>\n",
       "      <td>Zambia</td>\n",
       "      <td>83.1</td>\n",
       "      <td>37.00</td>\n",
       "      <td>5.890</td>\n",
       "      <td>30.90</td>\n",
       "      <td>3280.0</td>\n",
       "      <td>14.000</td>\n",
       "      <td>55.78</td>\n",
       "      <td>5.400</td>\n",
       "      <td>1460.0</td>\n",
       "      <td>0</td>\n",
       "    </tr>\n",
       "    <tr>\n",
       "      <td>142</td>\n",
       "      <td>Sudan</td>\n",
       "      <td>76.7</td>\n",
       "      <td>19.70</td>\n",
       "      <td>6.320</td>\n",
       "      <td>18.13</td>\n",
       "      <td>3370.0</td>\n",
       "      <td>19.600</td>\n",
       "      <td>66.30</td>\n",
       "      <td>4.880</td>\n",
       "      <td>1480.0</td>\n",
       "      <td>0</td>\n",
       "    </tr>\n",
       "    <tr>\n",
       "      <td>81</td>\n",
       "      <td>Kiribati</td>\n",
       "      <td>62.7</td>\n",
       "      <td>13.30</td>\n",
       "      <td>11.300</td>\n",
       "      <td>79.90</td>\n",
       "      <td>1730.0</td>\n",
       "      <td>1.520</td>\n",
       "      <td>60.70</td>\n",
       "      <td>3.840</td>\n",
       "      <td>1490.0</td>\n",
       "      <td>0</td>\n",
       "    </tr>\n",
       "    <tr>\n",
       "      <td>113</td>\n",
       "      <td>Nigeria</td>\n",
       "      <td>116.0</td>\n",
       "      <td>25.30</td>\n",
       "      <td>5.070</td>\n",
       "      <td>18.13</td>\n",
       "      <td>5150.0</td>\n",
       "      <td>20.870</td>\n",
       "      <td>60.50</td>\n",
       "      <td>5.840</td>\n",
       "      <td>2330.0</td>\n",
       "      <td>0</td>\n",
       "    </tr>\n",
       "    <tr>\n",
       "      <td>38</td>\n",
       "      <td>Congo, Rep.</td>\n",
       "      <td>63.9</td>\n",
       "      <td>80.57</td>\n",
       "      <td>2.791</td>\n",
       "      <td>54.70</td>\n",
       "      <td>5190.0</td>\n",
       "      <td>20.700</td>\n",
       "      <td>60.40</td>\n",
       "      <td>4.950</td>\n",
       "      <td>2740.0</td>\n",
       "      <td>0</td>\n",
       "    </tr>\n",
       "    <tr>\n",
       "      <td>3</td>\n",
       "      <td>Angola</td>\n",
       "      <td>116.0</td>\n",
       "      <td>62.30</td>\n",
       "      <td>2.850</td>\n",
       "      <td>42.90</td>\n",
       "      <td>5900.0</td>\n",
       "      <td>20.870</td>\n",
       "      <td>60.10</td>\n",
       "      <td>5.861</td>\n",
       "      <td>3530.0</td>\n",
       "      <td>0</td>\n",
       "    </tr>\n",
       "    <tr>\n",
       "      <td>149</td>\n",
       "      <td>Timor-Leste</td>\n",
       "      <td>62.6</td>\n",
       "      <td>12.12</td>\n",
       "      <td>9.120</td>\n",
       "      <td>27.80</td>\n",
       "      <td>1850.0</td>\n",
       "      <td>20.870</td>\n",
       "      <td>71.10</td>\n",
       "      <td>5.861</td>\n",
       "      <td>3600.0</td>\n",
       "      <td>0</td>\n",
       "    </tr>\n",
       "    <tr>\n",
       "      <td>72</td>\n",
       "      <td>Iraq</td>\n",
       "      <td>36.9</td>\n",
       "      <td>39.40</td>\n",
       "      <td>8.410</td>\n",
       "      <td>34.10</td>\n",
       "      <td>12700.0</td>\n",
       "      <td>16.600</td>\n",
       "      <td>67.20</td>\n",
       "      <td>4.560</td>\n",
       "      <td>4500.0</td>\n",
       "      <td>0</td>\n",
       "    </tr>\n",
       "    <tr>\n",
       "      <td>108</td>\n",
       "      <td>Namibia</td>\n",
       "      <td>56.0</td>\n",
       "      <td>47.80</td>\n",
       "      <td>6.780</td>\n",
       "      <td>60.70</td>\n",
       "      <td>8460.0</td>\n",
       "      <td>3.560</td>\n",
       "      <td>58.60</td>\n",
       "      <td>3.600</td>\n",
       "      <td>5190.0</td>\n",
       "      <td>0</td>\n",
       "    </tr>\n",
       "    <tr>\n",
       "      <td>21</td>\n",
       "      <td>Botswana</td>\n",
       "      <td>52.5</td>\n",
       "      <td>43.60</td>\n",
       "      <td>8.300</td>\n",
       "      <td>51.30</td>\n",
       "      <td>13300.0</td>\n",
       "      <td>8.920</td>\n",
       "      <td>57.10</td>\n",
       "      <td>2.880</td>\n",
       "      <td>6350.0</td>\n",
       "      <td>0</td>\n",
       "    </tr>\n",
       "    <tr>\n",
       "      <td>137</td>\n",
       "      <td>South Africa</td>\n",
       "      <td>53.7</td>\n",
       "      <td>28.60</td>\n",
       "      <td>8.940</td>\n",
       "      <td>27.40</td>\n",
       "      <td>12000.0</td>\n",
       "      <td>6.350</td>\n",
       "      <td>55.78</td>\n",
       "      <td>2.590</td>\n",
       "      <td>7280.0</td>\n",
       "      <td>0</td>\n",
       "    </tr>\n",
       "    <tr>\n",
       "      <td>55</td>\n",
       "      <td>Gabon</td>\n",
       "      <td>63.7</td>\n",
       "      <td>57.70</td>\n",
       "      <td>3.500</td>\n",
       "      <td>18.90</td>\n",
       "      <td>15400.0</td>\n",
       "      <td>16.600</td>\n",
       "      <td>62.90</td>\n",
       "      <td>4.080</td>\n",
       "      <td>8750.0</td>\n",
       "      <td>0</td>\n",
       "    </tr>\n",
       "    <tr>\n",
       "      <td>49</td>\n",
       "      <td>Equatorial Guinea</td>\n",
       "      <td>111.0</td>\n",
       "      <td>80.57</td>\n",
       "      <td>4.480</td>\n",
       "      <td>58.90</td>\n",
       "      <td>33700.0</td>\n",
       "      <td>20.870</td>\n",
       "      <td>60.90</td>\n",
       "      <td>5.210</td>\n",
       "      <td>17100.0</td>\n",
       "      <td>0</td>\n",
       "    </tr>\n",
       "  </tbody>\n",
       "</table>\n",
       "</div>"
      ],
      "text/plain": [
       "                      country  child_mort  exports  health  imports   income  \\\n",
       "31   Central African Republic       116.0    12.12   3.980    26.50   1213.0   \n",
       "37           Congo, Dem. Rep.       116.0    41.10   7.910    49.60   1213.0   \n",
       "112                     Niger       116.0    22.20   5.160    49.10   1213.0   \n",
       "132              Sierra Leone       116.0    16.80  11.570    34.50   1220.0   \n",
       "106                Mozambique       101.0    31.50   5.210    46.20   1213.0   \n",
       "26                    Burundi        93.6    12.12  11.570    39.20   1213.0   \n",
       "94                     Malawi        90.5    22.80   6.590    34.90   1213.0   \n",
       "88                    Liberia        89.3    19.10  11.570    81.14   1213.0   \n",
       "93                 Madagascar        62.2    25.00   3.770    43.00   1390.0   \n",
       "50                    Eritrea        55.2    12.12   2.791    23.30   1420.0   \n",
       "150                      Togo        90.3    40.20   7.650    57.30   1213.0   \n",
       "64              Guinea-Bissau       114.0    14.90   8.500    35.20   1390.0   \n",
       "0                 Afghanistan        90.2    12.12   7.580    44.90   1610.0   \n",
       "56                     Gambia        80.3    23.80   5.690    42.70   1660.0   \n",
       "126                    Rwanda        63.6    12.12  10.500    30.00   1350.0   \n",
       "25               Burkina Faso       116.0    19.20   6.740    29.60   1430.0   \n",
       "109                     Nepal        47.0    12.12   5.250    36.40   1990.0   \n",
       "155                    Uganda        81.0    17.10   9.010    28.60   1540.0   \n",
       "63                     Guinea       109.0    30.30   4.930    43.20   1213.0   \n",
       "66                      Haiti       116.0    15.30   6.910    64.70   1500.0   \n",
       "147                  Tanzania        71.9    18.70   6.010    29.10   2090.0   \n",
       "97                       Mali       116.0    22.80   4.980    35.10   1870.0   \n",
       "146                Tajikistan        52.4    14.90   5.980    58.60   2110.0   \n",
       "17                      Benin       111.0    23.80   4.100    37.20   1820.0   \n",
       "36                    Comoros        88.2    16.50   4.510    51.70   1410.0   \n",
       "32                       Chad       116.0    36.80   4.530    43.50   1930.0   \n",
       "80                      Kenya        62.2    20.70   4.750    33.60   2480.0   \n",
       "107                   Myanmar        64.4    12.12   2.791    18.13   3720.0   \n",
       "129                   Senegal        66.8    24.90   5.660    40.30   2180.0   \n",
       "116                  Pakistan        92.1    13.50   2.791    19.40   4280.0   \n",
       "84                        Lao        78.9    35.40   4.470    49.30   3980.0   \n",
       "87                    Lesotho        99.7    39.40  11.100    81.14   2380.0   \n",
       "99                 Mauritania        97.4    50.70   4.410    61.20   3320.0   \n",
       "40              Cote d'Ivoire       111.0    50.60   5.300    43.30   2690.0   \n",
       "28                   Cameroon       108.0    22.20   5.130    27.00   2660.0   \n",
       "59                      Ghana        74.7    29.50   5.220    45.90   3060.0   \n",
       "165                     Yemen        56.3    30.00   5.180    34.40   4480.0   \n",
       "69                      India        58.8    22.60   4.050    27.10   4410.0   \n",
       "166                    Zambia        83.1    37.00   5.890    30.90   3280.0   \n",
       "142                     Sudan        76.7    19.70   6.320    18.13   3370.0   \n",
       "81                   Kiribati        62.7    13.30  11.300    79.90   1730.0   \n",
       "113                   Nigeria       116.0    25.30   5.070    18.13   5150.0   \n",
       "38                Congo, Rep.        63.9    80.57   2.791    54.70   5190.0   \n",
       "3                      Angola       116.0    62.30   2.850    42.90   5900.0   \n",
       "149               Timor-Leste        62.6    12.12   9.120    27.80   1850.0   \n",
       "72                       Iraq        36.9    39.40   8.410    34.10  12700.0   \n",
       "108                   Namibia        56.0    47.80   6.780    60.70   8460.0   \n",
       "21                   Botswana        52.5    43.60   8.300    51.30  13300.0   \n",
       "137              South Africa        53.7    28.60   8.940    27.40  12000.0   \n",
       "55                      Gabon        63.7    57.70   3.500    18.90  15400.0   \n",
       "49          Equatorial Guinea       111.0    80.57   4.480    58.90  33700.0   \n",
       "\n",
       "     inflation  life_expec  total_fer     gdpp  label  \n",
       "31       2.010       55.78      5.210    465.9      0  \n",
       "37      20.800       57.50      5.861    465.9      0  \n",
       "112      2.550       58.80      5.861    465.9      0  \n",
       "132     17.200       55.78      5.200    465.9      0  \n",
       "106      7.640       55.78      5.560    465.9      0  \n",
       "26      12.300       57.70      5.861    465.9      0  \n",
       "94      12.100       55.78      5.310    465.9      0  \n",
       "88       5.470       60.80      5.020    465.9      0  \n",
       "93       8.790       60.80      4.600    465.9      0  \n",
       "50      11.600       61.70      4.610    482.0      0  \n",
       "150      1.180       58.70      4.870    488.0      0  \n",
       "64       2.970       55.78      5.050    547.0      0  \n",
       "0        9.440       56.20      5.820    553.0      0  \n",
       "56       4.300       65.50      5.710    562.0      0  \n",
       "126      2.610       64.60      4.510    563.0      0  \n",
       "25       6.810       57.90      5.861    575.0      0  \n",
       "109     15.100       68.30      2.610    592.0      0  \n",
       "155     10.600       56.80      5.861    595.0      0  \n",
       "63      16.100       58.00      5.340    648.0      0  \n",
       "66       5.450       55.78      3.330    662.0      0  \n",
       "147      9.250       59.30      5.430    702.0      0  \n",
       "97       4.370       59.50      5.861    708.0      0  \n",
       "146     12.500       69.60      3.510    738.0      0  \n",
       "17       0.885       61.80      5.360    758.0      0  \n",
       "36       3.870       65.90      4.750    769.0      0  \n",
       "32       6.390       56.50      5.861    897.0      0  \n",
       "80       2.090       62.80      4.370    967.0      0  \n",
       "107      7.040       66.80      2.410    988.0      0  \n",
       "129      1.850       64.00      5.060   1000.0      0  \n",
       "116     10.900       65.30      3.850   1040.0      0  \n",
       "84       9.200       63.80      3.150   1140.0      0  \n",
       "87       4.150       55.78      3.300   1170.0      0  \n",
       "99      18.900       68.20      4.980   1200.0      0  \n",
       "40       5.390       56.30      5.270   1220.0      0  \n",
       "28       1.910       57.30      5.110   1310.0      0  \n",
       "59      16.600       62.20      4.270   1310.0      0  \n",
       "165     20.870       67.50      4.670   1310.0      0  \n",
       "69       8.980       66.20      2.600   1350.0      0  \n",
       "166     14.000       55.78      5.400   1460.0      0  \n",
       "142     19.600       66.30      4.880   1480.0      0  \n",
       "81       1.520       60.70      3.840   1490.0      0  \n",
       "113     20.870       60.50      5.840   2330.0      0  \n",
       "38      20.700       60.40      4.950   2740.0      0  \n",
       "3       20.870       60.10      5.861   3530.0      0  \n",
       "149     20.870       71.10      5.861   3600.0      0  \n",
       "72      16.600       67.20      4.560   4500.0      0  \n",
       "108      3.560       58.60      3.600   5190.0      0  \n",
       "21       8.920       57.10      2.880   6350.0      0  \n",
       "137      6.350       55.78      2.590   7280.0      0  \n",
       "55      16.600       62.90      4.080   8750.0      0  \n",
       "49      20.870       60.90      5.210  17100.0      0  "
      ]
     },
     "execution_count": 86,
     "metadata": {},
     "output_type": "execute_result"
    }
   ],
   "source": [
    "# observing countries under cluster o with low gdpp, low income and high child_mort\n",
    "data_km[data_km['label']==0].sort_values(by = ['gdpp', 'child_mort', 'income'], ascending = [True, False, True])"
   ]
  },
  {
   "cell_type": "markdown",
   "metadata": {},
   "source": [
    "### Hierarchical clustering"
   ]
  },
  {
   "cell_type": "code",
   "execution_count": 87,
   "metadata": {},
   "outputs": [
    {
     "data": {
      "image/png": "[encoded data removed]",
      "text/plain": [
       "<Figure size 432x288 with 1 Axes>"
      ]
     },
     "metadata": {
      "needs_background": "light"
     },
     "output_type": "display_data"
    }
   ],
   "source": [
    "# single linkage\n",
    "mergings = linkage(data_copy2, method = \"single\", metric='euclidean')\n",
    "dendrogram(mergings)\n",
    "plt.show()"
   ]
  },
  {
   "cell_type": "code",
   "execution_count": 88,
   "metadata": {},
   "outputs": [
    {
     "data": {
      "image/png": "[encoded data removed]",
      "text/plain": [
       "<Figure size 432x288 with 1 Axes>"
      ]
     },
     "metadata": {
      "needs_background": "light"
     },
     "output_type": "display_data"
    }
   ],
   "source": [
    "#complete linkage\n",
    "mergings = linkage(data_copy2, method = \"complete\", metric='euclidean')\n",
    "dendrogram(mergings)\n",
    "plt.show()"
   ]
  },
  {
   "cell_type": "markdown",
   "metadata": {},
   "source": [
    "Complete likage seems to be a much better dendogram than single linkage"
   ]
  },
  {
   "cell_type": "code",
   "execution_count": 89,
   "metadata": {},
   "outputs": [
    {
     "data": {
      "text/plain": [
       "(167, 1)"
      ]
     },
     "execution_count": 89,
     "metadata": {},
     "output_type": "execute_result"
    }
   ],
   "source": [
    "cut_tree(mergings, n_clusters=3).shape"
   ]
  },
  {
   "cell_type": "markdown",
   "metadata": {},
   "source": [
    "so basically it's a one dimensional array of 167 observations"
   ]
  },
  {
   "cell_type": "code",
   "execution_count": 90,
   "metadata": {},
   "outputs": [
    {
     "data": {
      "text/plain": [
       "array([0, 0, 0, 0, 1, 0, 0, 2, 2, 0, 1, 2, 0, 1, 0, 2, 1, 0, 1, 0, 1, 1,\n",
       "       0, 2, 1, 0, 0, 1, 0, 2, 0, 0, 0, 0, 0, 0, 0, 0, 0, 0, 0, 1, 1, 1,\n",
       "       2, 0, 0, 0, 0, 0, 0, 1, 1, 2, 2, 0, 0, 1, 2, 0, 2, 0, 0, 0, 0, 1,\n",
       "       0, 1, 2, 0, 0, 0, 0, 2, 2, 2, 0, 2, 1, 0, 0, 1, 2, 1, 0, 1, 1, 1,\n",
       "       1, 2, 1, 2, 1, 0, 0, 1, 1, 0, 1, 0, 1, 1, 1, 0, 1, 0, 0, 0, 1, 0,\n",
       "       2, 2, 0, 0, 2, 2, 0, 1, 1, 0, 0, 1, 2, 2, 0, 0, 0, 0, 2, 0, 1, 1,\n",
       "       0, 2, 1, 1, 1, 0, 1, 2, 0, 0, 0, 0, 2, 2, 0, 0, 1, 0, 0, 0, 1, 0,\n",
       "       1, 0, 0, 2, 2, 2, 0, 0, 1, 0, 1, 0, 0])"
      ]
     },
     "execution_count": 90,
     "metadata": {},
     "output_type": "execute_result"
    }
   ],
   "source": [
    "# observing cluster labels\n",
    "cluster_labels = cut_tree(mergings, n_clusters=3).reshape(-1, )\n",
    "cluster_labels"
   ]
  },
  {
   "cell_type": "code",
   "execution_count": 91,
   "metadata": {},
   "outputs": [
    {
     "data": {
      "text/html": [
       "<div>\n",
       "<style scoped>\n",
       "    .dataframe tbody tr th:only-of-type {\n",
       "        vertical-align: middle;\n",
       "    }\n",
       "\n",
       "    .dataframe tbody tr th {\n",
       "        vertical-align: top;\n",
       "    }\n",
       "\n",
       "    .dataframe thead th {\n",
       "        text-align: right;\n",
       "    }\n",
       "</style>\n",
       "<table border=\"1\" class=\"dataframe\">\n",
       "  <thead>\n",
       "    <tr style=\"text-align: right;\">\n",
       "      <th></th>\n",
       "      <th>country</th>\n",
       "      <th>child_mort</th>\n",
       "      <th>exports</th>\n",
       "      <th>health</th>\n",
       "      <th>imports</th>\n",
       "      <th>income</th>\n",
       "      <th>inflation</th>\n",
       "      <th>life_expec</th>\n",
       "      <th>total_fer</th>\n",
       "      <th>gdpp</th>\n",
       "      <th>label</th>\n",
       "      <th>cluster_labels</th>\n",
       "    </tr>\n",
       "  </thead>\n",
       "  <tbody>\n",
       "    <tr>\n",
       "      <td>0</td>\n",
       "      <td>Afghanistan</td>\n",
       "      <td>90.2</td>\n",
       "      <td>12.12</td>\n",
       "      <td>7.58</td>\n",
       "      <td>44.9</td>\n",
       "      <td>1610.0</td>\n",
       "      <td>9.44</td>\n",
       "      <td>56.2</td>\n",
       "      <td>5.820</td>\n",
       "      <td>553.0</td>\n",
       "      <td>0</td>\n",
       "      <td>0</td>\n",
       "    </tr>\n",
       "    <tr>\n",
       "      <td>1</td>\n",
       "      <td>Albania</td>\n",
       "      <td>16.6</td>\n",
       "      <td>28.00</td>\n",
       "      <td>6.55</td>\n",
       "      <td>48.6</td>\n",
       "      <td>9930.0</td>\n",
       "      <td>4.49</td>\n",
       "      <td>76.3</td>\n",
       "      <td>1.650</td>\n",
       "      <td>4090.0</td>\n",
       "      <td>1</td>\n",
       "      <td>0</td>\n",
       "    </tr>\n",
       "    <tr>\n",
       "      <td>2</td>\n",
       "      <td>Algeria</td>\n",
       "      <td>27.3</td>\n",
       "      <td>38.40</td>\n",
       "      <td>4.17</td>\n",
       "      <td>31.4</td>\n",
       "      <td>12900.0</td>\n",
       "      <td>16.10</td>\n",
       "      <td>76.5</td>\n",
       "      <td>2.890</td>\n",
       "      <td>4460.0</td>\n",
       "      <td>1</td>\n",
       "      <td>0</td>\n",
       "    </tr>\n",
       "    <tr>\n",
       "      <td>3</td>\n",
       "      <td>Angola</td>\n",
       "      <td>116.0</td>\n",
       "      <td>62.30</td>\n",
       "      <td>2.85</td>\n",
       "      <td>42.9</td>\n",
       "      <td>5900.0</td>\n",
       "      <td>20.87</td>\n",
       "      <td>60.1</td>\n",
       "      <td>5.861</td>\n",
       "      <td>3530.0</td>\n",
       "      <td>0</td>\n",
       "      <td>0</td>\n",
       "    </tr>\n",
       "    <tr>\n",
       "      <td>4</td>\n",
       "      <td>Antigua and Barbuda</td>\n",
       "      <td>10.3</td>\n",
       "      <td>45.50</td>\n",
       "      <td>6.03</td>\n",
       "      <td>58.9</td>\n",
       "      <td>19100.0</td>\n",
       "      <td>1.44</td>\n",
       "      <td>76.8</td>\n",
       "      <td>2.130</td>\n",
       "      <td>12200.0</td>\n",
       "      <td>1</td>\n",
       "      <td>1</td>\n",
       "    </tr>\n",
       "  </tbody>\n",
       "</table>\n",
       "</div>"
      ],
      "text/plain": [
       "               country  child_mort  exports  health  imports   income  \\\n",
       "0          Afghanistan        90.2    12.12    7.58     44.9   1610.0   \n",
       "1              Albania        16.6    28.00    6.55     48.6   9930.0   \n",
       "2              Algeria        27.3    38.40    4.17     31.4  12900.0   \n",
       "3               Angola       116.0    62.30    2.85     42.9   5900.0   \n",
       "4  Antigua and Barbuda        10.3    45.50    6.03     58.9  19100.0   \n",
       "\n",
       "   inflation  life_expec  total_fer     gdpp  label  cluster_labels  \n",
       "0       9.44        56.2      5.820    553.0      0               0  \n",
       "1       4.49        76.3      1.650   4090.0      1               0  \n",
       "2      16.10        76.5      2.890   4460.0      1               0  \n",
       "3      20.87        60.1      5.861   3530.0      0               0  \n",
       "4       1.44        76.8      2.130  12200.0      1               1  "
      ]
     },
     "execution_count": 91,
     "metadata": {},
     "output_type": "execute_result"
    }
   ],
   "source": [
    "# assign cluster labels\n",
    "data_km['cluster_labels'] = cluster_labels\n",
    "data_km.head()"
   ]
  },
  {
   "cell_type": "code",
   "execution_count": 92,
   "metadata": {},
   "outputs": [
    {
     "data": {
      "text/plain": [
       "<matplotlib.axes._subplots.AxesSubplot at 0x23218a77908>"
      ]
     },
     "execution_count": 92,
     "metadata": {},
     "output_type": "execute_result"
    },
    {
     "data": {
      "image/png": "[encoded data removed]",
      "text/plain": [
       "<Figure size 432x288 with 1 Axes>"
      ]
     },
     "metadata": {
      "needs_background": "light"
     },
     "output_type": "display_data"
    }
   ],
   "source": [
    "# plot to determine child_mort per clusters\n",
    "sns.boxplot(x='cluster_labels', y='child_mort', data=data_km)"
   ]
  },
  {
   "cell_type": "markdown",
   "metadata": {},
   "source": [
    "Here we can see that countries under cluster 0 is greatest in child_mort "
   ]
  },
  {
   "cell_type": "code",
   "execution_count": 93,
   "metadata": {},
   "outputs": [
    {
     "data": {
      "text/plain": [
       "<matplotlib.axes._subplots.AxesSubplot at 0x23218b90108>"
      ]
     },
     "execution_count": 93,
     "metadata": {},
     "output_type": "execute_result"
    },
    {
     "data": {
      "image/png": "[encoded data removed]",
      "text/plain": [
       "<Figure size 432x288 with 1 Axes>"
      ]
     },
     "metadata": {
      "needs_background": "light"
     },
     "output_type": "display_data"
    }
   ],
   "source": [
    "# plot to determine income per clusters\n",
    "sns.boxplot(x='cluster_labels', y='income', data=data_km)"
   ]
  },
  {
   "cell_type": "markdown",
   "metadata": {},
   "source": [
    "Here we see that countries under cluster 0 are one having the lowest income among other clusters"
   ]
  },
  {
   "cell_type": "code",
   "execution_count": 94,
   "metadata": {},
   "outputs": [
    {
     "data": {
      "text/plain": [
       "<matplotlib.axes._subplots.AxesSubplot at 0x23218ba7288>"
      ]
     },
     "execution_count": 94,
     "metadata": {},
     "output_type": "execute_result"
    },
    {
     "data": {
      "image/png": "[encoded data removed]",
      "text/plain": [
       "<Figure size 432x288 with 1 Axes>"
      ]
     },
     "metadata": {
      "needs_background": "light"
     },
     "output_type": "display_data"
    }
   ],
   "source": [
    "# plot to determine gdpp per clusters\n",
    "sns.boxplot(x='cluster_labels', y='gdpp', data=data_km)"
   ]
  },
  {
   "cell_type": "markdown",
   "metadata": {},
   "source": [
    "And here we can see that countries under cluster 0 are the one with lowest gdpp rate as compared to other two clusters, hence we can say that countries under cluster 0 are the ones which are in need for the aid"
   ]
  },
  {
   "cell_type": "markdown",
   "metadata": {},
   "source": [
    "## Step 5:- Final Analysis"
   ]
  },
  {
   "cell_type": "markdown",
   "metadata": {},
   "source": [
    "Following countries are the ones which are in need for the aid"
   ]
  },
  {
   "cell_type": "code",
   "execution_count": 95,
   "metadata": {},
   "outputs": [
    {
     "name": "stdout",
     "output_type": "stream",
     "text": [
      "['Afghanistan' 'Angola' 'Benin' 'Botswana' 'Burkina Faso' 'Burundi'\n",
      " 'Cameroon' 'Central African Republic' 'Chad' 'Comoros' 'Congo, Dem. Rep.'\n",
      " 'Congo, Rep.' \"Cote d'Ivoire\" 'Equatorial Guinea' 'Eritrea' 'Gabon'\n",
      " 'Gambia' 'Ghana' 'Guinea' 'Guinea-Bissau' 'Haiti' 'India' 'Iraq' 'Kenya'\n",
      " 'Kiribati' 'Lao' 'Lesotho' 'Liberia' 'Madagascar' 'Malawi' 'Mali'\n",
      " 'Mauritania' 'Mozambique' 'Myanmar' 'Namibia' 'Nepal' 'Niger' 'Nigeria'\n",
      " 'Pakistan' 'Rwanda' 'Senegal' 'Sierra Leone' 'South Africa' 'Sudan'\n",
      " 'Tajikistan' 'Tanzania' 'Timor-Leste' 'Togo' 'Uganda' 'Yemen' 'Zambia']\n"
     ]
    }
   ],
   "source": [
    "print(data_km[data_km['label']==0].country.values)"
   ]
  }
 ],
 "metadata": {
  "kernelspec": {
   "display_name": "Python 3",
   "language": "python",
   "name": "python3"
  },
  "language_info": {
   "codemirror_mode": {
    "name": "ipython",
    "version": 3
   },
   "file_extension": ".py",
   "mimetype": "text/x-python",
   "name": "python",
   "nbconvert_exporter": "python",
   "pygments_lexer": "ipython3",
   "version": "3.7.4"
  }
 },
 "nbformat": 4,
 "nbformat_minor": 2
}
